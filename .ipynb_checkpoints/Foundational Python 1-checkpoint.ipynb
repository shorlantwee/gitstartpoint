{
 "cells": [
  {
   "cell_type": "markdown",
   "metadata": {
    "id": "d3M8IBIsyehe"
   },
   "source": [
    "# Python From Scratch: Part 1"
   ]
  },
  {
   "cell_type": "code",
   "execution_count": null,
   "metadata": {
    "id": "FlxYhV32yehl"
   },
   "outputs": [],
   "source": [
    "# Python is widely accepted due to simplicity of the language compared with the likes of Java.\n",
    "# Python is a General Purpose Language\n",
    "# Python is a high level language\n",
    "# Python is the most in demand programming language in workplaces\n",
    "# Python is the most in demand programming language for Data Scientists"
   ]
  },
  {
   "cell_type": "code",
   "execution_count": null,
   "metadata": {
    "id": "fYomzyW1yeho"
   },
   "outputs": [],
   "source": [
    "# Comments are pieces of text used to describe what is happening in the code (by using Hash Sign)\n",
    "# They have no effect on the code whatsoever."
   ]
  },
  {
   "cell_type": "markdown",
   "metadata": {
    "id": "QMfZXHqGyeho"
   },
   "source": [
    "# Your First Python Code"
   ]
  },
  {
   "cell_type": "code",
   "execution_count": null,
   "metadata": {
    "id": "K7FVZKMiyehp",
    "outputId": "7c62ec9f-10a6-49fe-c5bb-2b000c8566e4"
   },
   "outputs": [
    {
     "name": "stdout",
     "output_type": "stream",
     "text": [
      "Hello World\n"
     ]
    }
   ],
   "source": [
    "print(\"Hello World\") #This is a print function."
   ]
  },
  {
   "cell_type": "code",
   "execution_count": null,
   "metadata": {
    "id": "hiTetOxRyehr",
    "outputId": "b94b60eb-c7bf-4b2d-8419-d6706719602f"
   },
   "outputs": [
    {
     "name": "stdout",
     "output_type": "stream",
     "text": [
      "50 100 30 Hello Datalab\n"
     ]
    }
   ],
   "source": [
    "print(50,100,30,\"Hello Datalab\")"
   ]
  },
  {
   "cell_type": "code",
   "execution_count": null,
   "metadata": {
    "id": "GtR5akmyyehs",
    "outputId": "88d68694-f70c-4236-b869-564f69edc596"
   },
   "outputs": [
    {
     "name": "stdout",
     "output_type": "stream",
     "text": [
      "Hello World to the Starlights Team\n"
     ]
    }
   ],
   "source": [
    "# If we want multiple print statements to print in the same line, \n",
    "# we can use the following code\n",
    "print(\"Hello\",end=\" \")\n",
    "print(\"World\",end=\" \")\n",
    "print(\"to the Starlights Team\")"
   ]
  },
  {
   "cell_type": "code",
   "execution_count": null,
   "metadata": {
    "id": "5APD6jqbyeht",
    "outputId": "45af149f-2f1b-42f6-8c4d-4a2835b92a22"
   },
   "outputs": [
    {
     "name": "stdout",
     "output_type": "stream",
     "text": [
      "Olayemi Oyeleke\n"
     ]
    }
   ],
   "source": [
    "print(\"Olayemi\",end = \" \")\n",
    "print(\"Oyeleke\")"
   ]
  },
  {
   "cell_type": "code",
   "execution_count": null,
   "metadata": {
    "id": "8QNYCoe2yehv"
   },
   "outputs": [],
   "source": [
    "#To use more than one line of text in your string \n",
    "#(called a multiline string), use three single quotes (''')\n",
    "modupe = '''How do adults pay their bills? \n",
    "With bank checks!'''"
   ]
  },
  {
   "cell_type": "code",
   "execution_count": null,
   "metadata": {
    "id": "wslfBl5dyehw",
    "outputId": "277d75d7-b6d8-49ab-c273-e80397474fa0"
   },
   "outputs": [
    {
     "name": "stdout",
     "output_type": "stream",
     "text": [
      "How do adults pay their bills? \n",
      "With bank checks!\n"
     ]
    }
   ],
   "source": [
    "print(modupe)"
   ]
  },
  {
   "cell_type": "code",
   "execution_count": null,
   "metadata": {
    "id": "DCpZmdoSyehx"
   },
   "outputs": [],
   "source": [
    "sola = \"How do we go the class?\""
   ]
  },
  {
   "cell_type": "code",
   "execution_count": null,
   "metadata": {
    "id": "34XYq-ZGyehy",
    "outputId": "3dd203a1-151c-4a64-9206-c88637dcc474"
   },
   "outputs": [
    {
     "name": "stdout",
     "output_type": "stream",
     "text": [
      "How do we go the class?\n"
     ]
    }
   ],
   "source": [
    "print(sola)"
   ]
  },
  {
   "cell_type": "markdown",
   "metadata": {
    "id": "BGZk4z-syehy"
   },
   "source": [
    "# Handling Problems with Strings"
   ]
  },
  {
   "cell_type": "code",
   "execution_count": null,
   "metadata": {
    "id": "zJnIn_mqyehz",
    "outputId": "fcd66d44-f618-4911-9162-5068a39c6a5b"
   },
   "outputs": [
    {
     "ename": "SyntaxError",
     "evalue": "invalid syntax (<ipython-input-63-f95c391c5da0>, line 2)",
     "output_type": "error",
     "traceback": [
      "\u001b[1;36m  File \u001b[1;32m\"<ipython-input-63-f95c391c5da0>\"\u001b[1;36m, line \u001b[1;32m2\u001b[0m\n\u001b[1;33m    silly_string = 'He said, \"Aren't can't shouldn't wouldn't.\"'\u001b[0m\n\u001b[1;37m                                   ^\u001b[0m\n\u001b[1;31mSyntaxError\u001b[0m\u001b[1;31m:\u001b[0m invalid syntax\n"
     ]
    }
   ],
   "source": [
    "#Now consider this bad example of a string, which causes Python to display an error message:\n",
    "silly_string = 'He said, \"Aren't can't shouldn't wouldn't.\"'"
   ]
  },
  {
   "cell_type": "code",
   "execution_count": null,
   "metadata": {
    "id": "tiFY3i93yehz",
    "outputId": "4fef1a32-e00d-44c3-ee14-e363d81f0aec"
   },
   "outputs": [
    {
     "name": "stdout",
     "output_type": "stream",
     "text": [
      "He said, \"Aren't can't shouldn't wouldn't.\"\n",
      "He said, \"Aren't can't shouldn't wouldn't.\"\n"
     ]
    }
   ],
   "source": [
    "#Using backslash (\\) before each quotation mark\n",
    "silly_string1 = 'He said, \"Aren\\'t can\\'t shouldn\\'t wouldn\\'t.\"'  \n",
    "silly_string2 = \"He said, \\\"Aren't can't shouldn't wouldn't.\\\"\"\n",
    "print(silly_string1)\n",
    "print(silly_string2)"
   ]
  },
  {
   "cell_type": "markdown",
   "metadata": {
    "id": "7KUE_H8cyeh0"
   },
   "source": [
    "# Embedding Values in Strings"
   ]
  },
  {
   "cell_type": "code",
   "execution_count": null,
   "metadata": {
    "colab": {
     "base_uri": "https://localhost:8080/"
    },
    "executionInfo": {
     "elapsed": 23,
     "status": "ok",
     "timestamp": 1643106904606,
     "user": {
      "displayName": "hamdalah aremu",
      "photoUrl": "https://lh3.googleusercontent.com/a/default-user=s64",
      "userId": "06049986838093065452"
     },
     "user_tz": -60
    },
    "id": "yDL-n3B3yeh0",
    "outputId": "cebf42ca-27b6-42f8-b4fd-ec7de773eee8"
   },
   "outputs": [
    {
     "name": "stdout",
     "output_type": "stream",
     "text": [
      "I scored 2000 points\n"
     ]
    }
   ],
   "source": [
    "myscore = 2000\n",
    "message = 'I scored %s points' #where %s is a placeholder for the number of points.\n",
    "print(message % myscore)"
   ]
  },
  {
   "cell_type": "code",
   "execution_count": null,
   "metadata": {
    "colab": {
     "base_uri": "https://localhost:8080/"
    },
    "executionInfo": {
     "elapsed": 20,
     "status": "ok",
     "timestamp": 1643106904607,
     "user": {
      "displayName": "hamdalah aremu",
      "photoUrl": "https://lh3.googleusercontent.com/a/default-user=s64",
      "userId": "06049986838093065452"
     },
     "user_tz": -60
    },
    "id": "Fr_HgaKOyeh1",
    "outputId": "5dca35c0-e639-4366-a11e-aebfce87c539"
   },
   "outputs": [
    {
     "name": "stdout",
     "output_type": "stream",
     "text": [
      "What did the number 112 say to the number 13? Nice Score!!\n"
     ]
    }
   ],
   "source": [
    "#You can also use more than one placeholder in a string, like this:\n",
    "nums = 'What did the number %s say to the number %s? Nice Score!!'\n",
    "print(nums % (112,13))"
   ]
  },
  {
   "cell_type": "code",
   "execution_count": null,
   "metadata": {
    "colab": {
     "base_uri": "https://localhost:8080/"
    },
    "executionInfo": {
     "elapsed": 20,
     "status": "ok",
     "timestamp": 1643106904608,
     "user": {
      "displayName": "hamdalah aremu",
      "photoUrl": "https://lh3.googleusercontent.com/a/default-user=s64",
      "userId": "06049986838093065452"
     },
     "user_tz": -60
    },
    "id": "_pfBH5Tyyeh1",
    "outputId": "0e52b6b5-6c6a-43f5-b6e4-1c96c271e68b"
   },
   "outputs": [
    {
     "name": "stdout",
     "output_type": "stream",
     "text": [
      "TouchLight: a device for finding things in the dark\n",
      "Lamp: a device for finding things in the dark\n",
      "Floodlight: a device for finding things in the dark\n",
      "Bulb: a device for finding things in the dark\n"
     ]
    }
   ],
   "source": [
    "text = '%s: a device for finding things in the dark' #Reusable throughout your task\n",
    "devicepart1 = 'TouchLight'\n",
    "devicepart2 = 'Lamp'\n",
    "devicepart3 = 'Floodlight'\n",
    "devicepart4 = \"Bulb\"\n",
    "\n",
    "print(text % devicepart1)\n",
    "print(text % devicepart2)\n",
    "print(text % devicepart3)\n",
    "print(text % devicepart4)"
   ]
  },
  {
   "cell_type": "markdown",
   "metadata": {
    "id": "FEFV4THgyeh2"
   },
   "source": [
    "# Data Types and Variables in Python"
   ]
  },
  {
   "cell_type": "code",
   "execution_count": null,
   "metadata": {
    "colab": {
     "base_uri": "https://localhost:8080/"
    },
    "executionInfo": {
     "elapsed": 19,
     "status": "ok",
     "timestamp": 1643106904608,
     "user": {
      "displayName": "hamdalah aremu",
      "photoUrl": "https://lh3.googleusercontent.com/a/default-user=s64",
      "userId": "06049986838093065452"
     },
     "user_tz": -60
    },
    "id": "sHip-g32yeh2",
    "outputId": "0a2e8629-d2fe-4dc9-9f53-5d8ec939a14d"
   },
   "outputs": [
    {
     "name": "stdout",
     "output_type": "stream",
     "text": [
      "10\n",
      "-3000\n"
     ]
    }
   ],
   "source": [
    "print(10)  # A positive integer\n",
    "print(-3000)  # A negative integer"
   ]
  },
  {
   "cell_type": "code",
   "execution_count": null,
   "metadata": {
    "colab": {
     "base_uri": "https://localhost:8080/"
    },
    "executionInfo": {
     "elapsed": 19,
     "status": "ok",
     "timestamp": 1643106904609,
     "user": {
      "displayName": "hamdalah aremu",
      "photoUrl": "https://lh3.googleusercontent.com/a/default-user=s64",
      "userId": "06049986838093065452"
     },
     "user_tz": -60
    },
    "id": "rBd00poayeh2",
    "outputId": "aa742050-8fc5-4a0c-9aa0-e7cb7a50c80e"
   },
   "outputs": [
    {
     "name": "stdout",
     "output_type": "stream",
     "text": [
      "123456789\n"
     ]
    }
   ],
   "source": [
    "num = 123456789  # Assigning an integer to a variable\n",
    "print(num)"
   ]
  },
  {
   "cell_type": "code",
   "execution_count": null,
   "metadata": {
    "colab": {
     "base_uri": "https://localhost:8080/"
    },
    "executionInfo": {
     "elapsed": 18,
     "status": "ok",
     "timestamp": 1643106904609,
     "user": {
      "displayName": "hamdalah aremu",
      "photoUrl": "https://lh3.googleusercontent.com/a/default-user=s64",
      "userId": "06049986838093065452"
     },
     "user_tz": -60
    },
    "id": "P-wjTKHoyeh3",
    "outputId": "4c86cfc6-19d9-4df8-f197-1e1c8a9aecd2"
   },
   "outputs": [
    {
     "name": "stdout",
     "output_type": "stream",
     "text": [
      "-16000\n"
     ]
    }
   ],
   "source": [
    "num = -16000  # Assigning a new integer\n",
    "print(num)"
   ]
  },
  {
   "cell_type": "code",
   "execution_count": null,
   "metadata": {
    "colab": {
     "base_uri": "https://localhost:8080/"
    },
    "executionInfo": {
     "elapsed": 18,
     "status": "ok",
     "timestamp": 1643106904610,
     "user": {
      "displayName": "hamdalah aremu",
      "photoUrl": "https://lh3.googleusercontent.com/a/default-user=s64",
      "userId": "06049986838093065452"
     },
     "user_tz": -60
    },
    "id": "n-EvZ-WVyeh3",
    "outputId": "3f05f528-1f5a-45f4-e87b-bf71a186972c"
   },
   "outputs": [
    {
     "name": "stdout",
     "output_type": "stream",
     "text": [
      "1.00000000005\n"
     ]
    }
   ],
   "source": [
    "print(1.00000000005)  # A positive float"
   ]
  },
  {
   "cell_type": "code",
   "execution_count": null,
   "metadata": {
    "colab": {
     "base_uri": "https://localhost:8080/"
    },
    "executionInfo": {
     "elapsed": 17,
     "status": "ok",
     "timestamp": 1643106904610,
     "user": {
      "displayName": "hamdalah aremu",
      "photoUrl": "https://lh3.googleusercontent.com/a/default-user=s64",
      "userId": "06049986838093065452"
     },
     "user_tz": -60
    },
    "id": "Rwd9T3zVyeh4",
    "outputId": "18567eaf-1016-42c2-cf1c-16a8b79438e8"
   },
   "outputs": [
    {
     "name": "stdout",
     "output_type": "stream",
     "text": [
      "-85.6701\n"
     ]
    }
   ],
   "source": [
    "print(-85.6701)  # A negative float"
   ]
  },
  {
   "cell_type": "code",
   "execution_count": null,
   "metadata": {
    "colab": {
     "base_uri": "https://localhost:8080/"
    },
    "executionInfo": {
     "elapsed": 17,
     "status": "ok",
     "timestamp": 1643106904611,
     "user": {
      "displayName": "hamdalah aremu",
      "photoUrl": "https://lh3.googleusercontent.com/a/default-user=s64",
      "userId": "06049986838093065452"
     },
     "user_tz": -60
    },
    "id": "H5EICSGgyeh4",
    "outputId": "32c71513-0010-4ae4-fd6a-44711edcb6c0"
   },
   "outputs": [
    {
     "name": "stdout",
     "output_type": "stream",
     "text": [
      "1.23456789\n"
     ]
    }
   ],
   "source": [
    "flt_pt = 1.23456789\n",
    "print(flt_pt)"
   ]
  },
  {
   "cell_type": "code",
   "execution_count": null,
   "metadata": {
    "colab": {
     "base_uri": "https://localhost:8080/"
    },
    "executionInfo": {
     "elapsed": 16,
     "status": "ok",
     "timestamp": 1643106904611,
     "user": {
      "displayName": "hamdalah aremu",
      "photoUrl": "https://lh3.googleusercontent.com/a/default-user=s64",
      "userId": "06049986838093065452"
     },
     "user_tz": -60
    },
    "id": "bPn2UFBGyeh4",
    "outputId": "128c79a7-f6e9-440f-8ff2-2feec1d23e43"
   },
   "outputs": [
    {
     "name": "stdout",
     "output_type": "stream",
     "text": [
      "True\n",
      "False\n"
     ]
    }
   ],
   "source": [
    "print(True) # Bolean\n",
    "print(False) #Bolean"
   ]
  },
  {
   "cell_type": "code",
   "execution_count": null,
   "metadata": {
    "colab": {
     "base_uri": "https://localhost:8080/"
    },
    "executionInfo": {
     "elapsed": 17,
     "status": "ok",
     "timestamp": 1643106904612,
     "user": {
      "displayName": "hamdalah aremu",
      "photoUrl": "https://lh3.googleusercontent.com/a/default-user=s64",
      "userId": "06049986838093065452"
     },
     "user_tz": -60
    },
    "id": "oqWK-NG0yeh4",
    "outputId": "5115b081-84a6-4317-cc2e-8beda20c13f9"
   },
   "outputs": [
    {
     "name": "stdout",
     "output_type": "stream",
     "text": [
      "Narrow Road\n"
     ]
    }
   ],
   "source": [
    "game = \"Narrow Road\"\n",
    "print(game)"
   ]
  },
  {
   "cell_type": "code",
   "execution_count": null,
   "metadata": {
    "colab": {
     "base_uri": "https://localhost:8080/"
    },
    "executionInfo": {
     "elapsed": 16,
     "status": "ok",
     "timestamp": 1643106904612,
     "user": {
      "displayName": "hamdalah aremu",
      "photoUrl": "https://lh3.googleusercontent.com/a/default-user=s64",
      "userId": "06049986838093065452"
     },
     "user_tz": -60
    },
    "id": "SsssX_ZRyeh5",
    "outputId": "5a19ed0a-f4d5-4999-bc2c-1a210ab49a4a"
   },
   "outputs": [
    {
     "name": "stdout",
     "output_type": "stream",
     "text": [
      " \n"
     ]
    }
   ],
   "source": [
    "play = \" \"\n",
    "print(play) #it will just print an empty line"
   ]
  },
  {
   "cell_type": "code",
   "execution_count": null,
   "metadata": {
    "colab": {
     "base_uri": "https://localhost:8080/"
    },
    "executionInfo": {
     "elapsed": 16,
     "status": "ok",
     "timestamp": 1643106904613,
     "user": {
      "displayName": "hamdalah aremu",
      "photoUrl": "https://lh3.googleusercontent.com/a/default-user=s64",
      "userId": "06049986838093065452"
     },
     "user_tz": -60
    },
    "id": "IJYaxfWyyeh5",
    "outputId": "7dee1c4e-5112-498c-b58a-67a486f230a5"
   },
   "outputs": [
    {
     "name": "stdout",
     "output_type": "stream",
     "text": [
      "11\n"
     ]
    }
   ],
   "source": [
    "#Print the length of String\n",
    "game = \"Narrow Road\"\n",
    "print(len(game)) #space was also counted in the process"
   ]
  },
  {
   "cell_type": "markdown",
   "metadata": {
    "id": "jgkGNJ1tyeh5"
   },
   "source": [
    "# Sub-Setting Strings with Index"
   ]
  },
  {
   "cell_type": "code",
   "execution_count": null,
   "metadata": {
    "id": "3SglL6uTyeh6",
    "outputId": "75774663-74f8-45da-b1f5-be62b4c47d14"
   },
   "outputs": [
    {
     "name": "stdout",
     "output_type": "stream",
     "text": [
      "y\n"
     ]
    }
   ],
   "source": [
    "instructor = \"olayemi oyeleke\"\n",
    "first = instructor[9] #Accessing the first character in the string\n",
    "print(first)"
   ]
  },
  {
   "cell_type": "code",
   "execution_count": null,
   "metadata": {
    "id": "l8Ld-nWLyeh6",
    "outputId": "c982f873-b7bf-4264-87c0-fa5c41d26170"
   },
   "outputs": [
    {
     "name": "stdout",
     "output_type": "stream",
     "text": [
      " \n"
     ]
    }
   ],
   "source": [
    "space = instructor[7] # Accessing the space in the name/string\n",
    "print(space)"
   ]
  },
  {
   "cell_type": "code",
   "execution_count": null,
   "metadata": {
    "id": "1mi5tkYtyeh6",
    "outputId": "330c30c5-148a-4b2b-b1b4-7577ebf5f688"
   },
   "outputs": [
    {
     "name": "stdout",
     "output_type": "stream",
     "text": [
      "n\n"
     ]
    }
   ],
   "source": [
    "#Reverse/Negative Indexing\n",
    "saviour = \"Christ Jesus the King\"\n",
    "print(saviour[-2]) #start print from the last character"
   ]
  },
  {
   "cell_type": "code",
   "execution_count": null,
   "metadata": {
    "id": "NGrEY4_-yeh7",
    "outputId": "54f99646-5947-4342-a452-84b55ab21876"
   },
   "outputs": [
    {
     "name": "stdout",
     "output_type": "stream",
     "text": [
      "s\n"
     ]
    }
   ],
   "source": [
    "print(saviour[11])"
   ]
  },
  {
   "cell_type": "markdown",
   "metadata": {
    "id": "KdZiBNHAyeh7"
   },
   "source": [
    "# String Slicing"
   ]
  },
  {
   "cell_type": "code",
   "execution_count": null,
   "metadata": {
    "id": "WLOnAVayyeh7",
    "outputId": "844cfdf4-76af-48d2-c493-c46ec1a04e16"
   },
   "outputs": [
    {
     "name": "stdout",
     "output_type": "stream",
     "text": [
      "python\n"
     ]
    }
   ],
   "source": [
    "my_string = \"pythonclass\"\n",
    "print(my_string[0:6]) #From the start till \"before\" the 4th index"
   ]
  },
  {
   "cell_type": "code",
   "execution_count": null,
   "metadata": {
    "id": "F4IuEzE7yeh7",
    "outputId": "d9476f8b-d26f-4487-f934-26dfdf37504b"
   },
   "outputs": [
    {
     "name": "stdout",
     "output_type": "stream",
     "text": [
      "ythonc\n"
     ]
    }
   ],
   "source": [
    "print(my_string[1:7])"
   ]
  },
  {
   "cell_type": "code",
   "execution_count": null,
   "metadata": {
    "id": "n-jVuV30yeh7",
    "outputId": "ae1ae487-756c-41c9-8004-fbc6b6ae3c7d"
   },
   "outputs": [
    {
     "name": "stdout",
     "output_type": "stream",
     "text": [
      "lass\n"
     ]
    }
   ],
   "source": [
    "print(my_string[7:len(my_string)])  #From the 7th index till the end"
   ]
  },
  {
   "cell_type": "code",
   "execution_count": null,
   "metadata": {
    "id": "P6OrAibEyeh8",
    "outputId": "2554a0e0-07f2-4f20-c69d-6125ff6fecca"
   },
   "outputs": [
    {
     "name": "stdout",
     "output_type": "stream",
     "text": [
      "This is\n"
     ]
    }
   ],
   "source": [
    "# Slicing with a Step\n",
    "my_string = \"This is my string!\"\n",
    "print(my_string[0:7])  # A step of 1"
   ]
  },
  {
   "cell_type": "code",
   "execution_count": null,
   "metadata": {
    "id": "znToOL-kyeh8",
    "outputId": "429557da-9140-41ab-a412-9c1d7a34a1c6"
   },
   "outputs": [
    {
     "name": "stdout",
     "output_type": "stream",
     "text": [
      "Tss\n"
     ]
    }
   ],
   "source": [
    "print(my_string[0:7:3])  # A step of 2"
   ]
  },
  {
   "cell_type": "code",
   "execution_count": null,
   "metadata": {
    "id": "2i9WPHfiyeh8",
    "outputId": "7c0ca27a-825f-4ced-a2f7-1a8be3418f97"
   },
   "outputs": [
    {
     "name": "stdout",
     "output_type": "stream",
     "text": [
      "This is \n"
     ]
    }
   ],
   "source": [
    "# Partial Slicing\n",
    "my_string = \"This is my string!\"\n",
    "print(my_string[:8])  # All the characters before 'M'"
   ]
  },
  {
   "cell_type": "code",
   "execution_count": null,
   "metadata": {
    "id": "OYK0eWd3yeh8",
    "outputId": "0e359945-8b79-4843-b366-f10c360f0ebb"
   },
   "outputs": [
    {
     "name": "stdout",
     "output_type": "stream",
     "text": [
      "my string!\n"
     ]
    }
   ],
   "source": [
    "print(my_string[8:])  # All the characters starting from 'M'"
   ]
  },
  {
   "cell_type": "code",
   "execution_count": null,
   "metadata": {
    "id": "DSklaXoWyeh9",
    "outputId": "2f8a0f24-f4e3-4992-9743-20f8bbdc12e8"
   },
   "outputs": [
    {
     "name": "stdout",
     "output_type": "stream",
     "text": [
      "This is my string!\n"
     ]
    }
   ],
   "source": [
    "print(my_string[:])  # The whole string"
   ]
  },
  {
   "cell_type": "code",
   "execution_count": null,
   "metadata": {
    "id": "_zZfxYLHyeh9",
    "outputId": "3b61adbb-1068-423a-b36b-959ba44ce4f6"
   },
   "outputs": [
    {
     "name": "stdout",
     "output_type": "stream",
     "text": [
      "!gnirts ym si sihT\n"
     ]
    }
   ],
   "source": [
    "print(my_string[::-1])  # The whole string in reverse (step is -1)"
   ]
  },
  {
   "cell_type": "code",
   "execution_count": null,
   "metadata": {
    "id": "YTpY3zLpyeh9"
   },
   "outputs": [],
   "source": [
    ""
   ]
  },
  {
   "cell_type": "markdown",
   "metadata": {
    "id": "em-UVaPayeh9"
   },
   "source": [
    "# Introduction to Python Operators"
   ]
  },
  {
   "cell_type": "code",
   "execution_count": null,
   "metadata": {
    "id": "RBRO3I6Dyeh9"
   },
   "outputs": [],
   "source": [
    "# Operators are used to perform arithmetic and logical operations on data.\n",
    "\n",
    "# The 4 main operator types in Python are:\n",
    "\n",
    "# 1. arithmetic operators\n",
    "\n",
    "# 2. comparison operators\n",
    "\n",
    "# 3. assignment operators\n",
    "\n",
    "# 4. logical operators"
   ]
  },
  {
   "cell_type": "markdown",
   "metadata": {
    "id": "Gy6a0t05yeh-"
   },
   "source": [
    "# arithmetic operators"
   ]
  },
  {
   "cell_type": "code",
   "execution_count": null,
   "metadata": {
    "id": "yYNhuWfSyeh-",
    "outputId": "01df6a73-5143-443e-eeb4-52be06c96b99"
   },
   "outputs": [
    {
     "name": "stdout",
     "output_type": "stream",
     "text": [
      "15\n"
     ]
    }
   ],
   "source": [
    "# Addition\n",
    "print(5+10)"
   ]
  },
  {
   "cell_type": "code",
   "execution_count": null,
   "metadata": {
    "id": "jNvwiv7Yyeh-",
    "outputId": "d2b1c0b2-a82f-40a7-a922-810b0afc3d71"
   },
   "outputs": [
    {
     "name": "stdout",
     "output_type": "stream",
     "text": [
      "15.399999999999999\n"
     ]
    }
   ],
   "source": [
    "a = 13.2\n",
    "b = 2.2\n",
    "print(a+b)"
   ]
  },
  {
   "cell_type": "code",
   "execution_count": null,
   "metadata": {
    "id": "T9QUbJkKyeh-",
    "outputId": "d29f9b17-dd87-4f47-c0f8-9e108ba7441b"
   },
   "outputs": [
    {
     "name": "stdout",
     "output_type": "stream",
     "text": [
      "7\n"
     ]
    }
   ],
   "source": [
    "#Subtraction\n",
    "print(10-3)"
   ]
  },
  {
   "cell_type": "code",
   "execution_count": null,
   "metadata": {
    "id": "6CAeDuTmyeh_",
    "outputId": "ae56664b-f277-4534-ea8c-e770f6037392"
   },
   "outputs": [
    {
     "name": "stdout",
     "output_type": "stream",
     "text": [
      "2.5\n"
     ]
    }
   ],
   "source": [
    "c = 7.5\n",
    "d = 5\n",
    "print(c-d)"
   ]
  },
  {
   "cell_type": "code",
   "execution_count": null,
   "metadata": {
    "id": "xmwCiRntyeh_",
    "outputId": "edc66277-dd40-4a3b-abd8-04cc8fa8b405"
   },
   "outputs": [
    {
     "name": "stdout",
     "output_type": "stream",
     "text": [
      "600\n"
     ]
    }
   ],
   "source": [
    "## Multiplication\n",
    "print(60*10)"
   ]
  },
  {
   "cell_type": "code",
   "execution_count": null,
   "metadata": {
    "id": "d25KdxjAyeh_",
    "outputId": "34910c3d-5211-4486-e3fb-efe0bdf89da3"
   },
   "outputs": [
    {
     "name": "stdout",
     "output_type": "stream",
     "text": [
      "25.0\n"
     ]
    }
   ],
   "source": [
    "e = 2.5\n",
    "f = 10\n",
    "print(e*f)"
   ]
  },
  {
   "cell_type": "code",
   "execution_count": null,
   "metadata": {
    "id": "7mliDVAuyeh_",
    "outputId": "166aa862-4ba2-4fe4-f6e7-3eb101eb3bc5"
   },
   "outputs": [
    {
     "name": "stdout",
     "output_type": "stream",
     "text": [
      "5.0\n"
     ]
    }
   ],
   "source": [
    "#Division\n",
    "print(50/10)"
   ]
  },
  {
   "cell_type": "code",
   "execution_count": null,
   "metadata": {
    "id": "Bpp4Xv_Jyeh_",
    "outputId": "43c0f3fe-d8e7-47e7-a4af-5cf714d84a1f"
   },
   "outputs": [
    {
     "name": "stdout",
     "output_type": "stream",
     "text": [
      "8.0\n"
     ]
    }
   ],
   "source": [
    "g = 48\n",
    "h = 6\n",
    "print(g/h)"
   ]
  },
  {
   "cell_type": "code",
   "execution_count": null,
   "metadata": {
    "id": "e-xyNFhTyeiA",
    "outputId": "cc2d3b71-126c-4b3d-bad1-5ecb06bfea54"
   },
   "outputs": [
    {
     "name": "stdout",
     "output_type": "stream",
     "text": [
      "6\n"
     ]
    }
   ],
   "source": [
    "#Floor Division (Division to the nearest smaller integer)\n",
    "print(25//4)"
   ]
  },
  {
   "cell_type": "code",
   "execution_count": null,
   "metadata": {
    "id": "w28mtecmyeiA",
    "outputId": "012953ab-3f15-4c07-8188-ade219b8fb97"
   },
   "outputs": [
    {
     "name": "stdout",
     "output_type": "stream",
     "text": [
      "1\n"
     ]
    }
   ],
   "source": [
    "i = 3\n",
    "j = 2\n",
    "print(i//j)"
   ]
  },
  {
   "cell_type": "markdown",
   "metadata": {
    "id": "VqCVh-pdyeiA"
   },
   "source": [
    "# Introducing Modulo"
   ]
  },
  {
   "cell_type": "code",
   "execution_count": null,
   "metadata": {
    "id": "CKcTK6Q8yeiA",
    "outputId": "7cd5b592-3b61-44e5-ced0-e9678d4b2e28"
   },
   "outputs": [
    {
     "name": "stdout",
     "output_type": "stream",
     "text": [
      "5.0\n"
     ]
    }
   ],
   "source": [
    "print(10/2)"
   ]
  },
  {
   "cell_type": "code",
   "execution_count": null,
   "metadata": {
    "id": "1SdcDBBNyeiB",
    "outputId": "8b9a5ad3-4b0a-457a-ee07-ffd5244bd527"
   },
   "outputs": [
    {
     "name": "stdout",
     "output_type": "stream",
     "text": [
      "8\n"
     ]
    }
   ],
   "source": [
    "twenty_eight = 28\n",
    "print(twenty_eight%10) #reminder is 8"
   ]
  },
  {
   "cell_type": "code",
   "execution_count": null,
   "metadata": {
    "id": "Mln7W962yeiB",
    "outputId": "7d4c8628-80af-49c9-d5da-f27e3ffc75e0"
   },
   "outputs": [
    {
     "name": "stdout",
     "output_type": "stream",
     "text": [
      "2\n"
     ]
    }
   ],
   "source": [
    "print(-28 % 10) #The reminder is positive if the right-hand operand is positive"
   ]
  },
  {
   "cell_type": "code",
   "execution_count": null,
   "metadata": {
    "id": "yJKdJrVXyeiB",
    "outputId": "71cdb08c-adf9-40a6-a8eb-4974e968e853"
   },
   "outputs": [
    {
     "name": "stdout",
     "output_type": "stream",
     "text": [
      "-2\n"
     ]
    }
   ],
   "source": [
    "print(28 % -10) #The reminder is negative if the right-hand operand is negative"
   ]
  },
  {
   "cell_type": "code",
   "execution_count": null,
   "metadata": {
    "id": "b2H9FTtWyeiB",
    "outputId": "0f6e85da-a770-4729-ff5b-477541fae6ec"
   },
   "outputs": [
    {
     "name": "stdout",
     "output_type": "stream",
     "text": [
      "1.8999999999999986\n"
     ]
    }
   ],
   "source": [
    "print(34.4 % 2.5) #The reminder can be float"
   ]
  },
  {
   "cell_type": "markdown",
   "metadata": {
    "id": "S1E8za8CyeiB"
   },
   "source": [
    "# Operator Precedence"
   ]
  },
  {
   "cell_type": "code",
   "execution_count": null,
   "metadata": {
    "id": "se_iC-jNyeiC",
    "outputId": "cf5e9a80-fd91-439a-dd10-e87f34575a26"
   },
   "outputs": [
    {
     "name": "stdout",
     "output_type": "stream",
     "text": [
      "4\n"
     ]
    }
   ],
   "source": [
    "# Operator Precedence (will be computed on the basis of operator precedence rule)\n",
    "print(10 - 3 * 2)  #Multiplication computed first, followed by subtraction"
   ]
  },
  {
   "cell_type": "code",
   "execution_count": null,
   "metadata": {
    "id": "KCpcmKulyeiC",
    "outputId": "e80ac46a-790d-414a-9839-2b9c48dfad8d"
   },
   "outputs": [
    {
     "name": "stdout",
     "output_type": "stream",
     "text": [
      "12.0\n",
      "0.75\n"
     ]
    }
   ],
   "source": [
    "# Same precedence\n",
    "print(3 * 20 / 5)  # Multiplication computed first, followed by division\n",
    "print(3 / 20 * 5)  # Division computed first, followed by multiplication"
   ]
  },
  {
   "cell_type": "code",
   "execution_count": null,
   "metadata": {
    "id": "xU6swcZEyeiC",
    "outputId": "12a7b259-d832-4857-f5bd-65d22a3ed101"
   },
   "outputs": [
    {
     "name": "stdout",
     "output_type": "stream",
     "text": [
      "14\n",
      "10.0\n"
     ]
    }
   ],
   "source": [
    "# Parentheses\n",
    "# An expression which is enclosed inside parentheses \n",
    "# will be computed first, regardless of operator precedence:\n",
    "\n",
    "print((10-3)*2) #Substraction occurs first\n",
    "print((18+2)/(10 % 8))"
   ]
  },
  {
   "cell_type": "markdown",
   "metadata": {
    "id": "MjT6491jyeiC"
   },
   "source": [
    "# Comparison Operators"
   ]
  },
  {
   "cell_type": "code",
   "execution_count": null,
   "metadata": {
    "id": "VHY9ilpwyeiC",
    "outputId": "5883506e-0013-44a4-bd6e-472f450d0ab0"
   },
   "outputs": [
    {
     "name": "stdout",
     "output_type": "stream",
     "text": [
      "True\n"
     ]
    }
   ],
   "source": [
    "# The result of a comparison is always a bool.\n",
    "num1 = 5\n",
    "num2 = 10\n",
    "num3 = 10\n",
    "\n",
    "print(num2 > num1)  # 10 is greater than 5"
   ]
  },
  {
   "cell_type": "code",
   "execution_count": null,
   "metadata": {
    "id": "jlUDRFdGyeiD",
    "outputId": "b89e3340-5395-462f-e96e-1ab13f37b9c0"
   },
   "outputs": [
    {
     "name": "stdout",
     "output_type": "stream",
     "text": [
      "False\n"
     ]
    }
   ],
   "source": [
    "print(num1 > num2)  # 5 is not greater than 10"
   ]
  },
  {
   "cell_type": "code",
   "execution_count": null,
   "metadata": {
    "id": "hR7xym2GyeiD",
    "outputId": "660f4b00-879d-416a-98a1-eff4931ae2ec"
   },
   "outputs": [
    {
     "name": "stdout",
     "output_type": "stream",
     "text": [
      "True\n"
     ]
    }
   ],
   "source": [
    "print(num2 is num3)  # Both have the same value"
   ]
  },
  {
   "cell_type": "code",
   "execution_count": null,
   "metadata": {
    "id": "gKYyyDKbyeiD",
    "outputId": "b101b85b-68b8-4c85-df13-be30f79ef48a"
   },
   "outputs": [
    {
     "name": "stdout",
     "output_type": "stream",
     "text": [
      "True\n"
     ]
    }
   ],
   "source": [
    "print(num3 is not num1)  # Both have different values"
   ]
  },
  {
   "cell_type": "code",
   "execution_count": null,
   "metadata": {
    "id": "Ni2eDu_vyeiD",
    "outputId": "836ce7a1-6c2d-42ab-ba6f-3383b0175d8c"
   },
   "outputs": [
    {
     "name": "stdout",
     "output_type": "stream",
     "text": [
      "False\n"
     ]
    }
   ],
   "source": [
    "print(3 + 10 == 5 + 5)  # Both are not equal"
   ]
  },
  {
   "cell_type": "code",
   "execution_count": null,
   "metadata": {
    "id": "-xvbEVXLyeiE",
    "outputId": "dca0106c-35f2-44c3-9e89-b78e0d1e0586"
   },
   "outputs": [
    {
     "name": "stdout",
     "output_type": "stream",
     "text": [
      "False\n"
     ]
    }
   ],
   "source": [
    "print(3 <= 2)  # 3 is not less than or equal to 2"
   ]
  },
  {
   "cell_type": "markdown",
   "metadata": {
    "id": "-dWLZWsgyeiE"
   },
   "source": [
    "# Assignment Operators"
   ]
  },
  {
   "cell_type": "code",
   "execution_count": null,
   "metadata": {
    "id": "mhqnn9TpyeiE",
    "outputId": "07001112-d815-49fb-dad3-bc08bed82655"
   },
   "outputs": [
    {
     "name": "stdout",
     "output_type": "stream",
     "text": [
      "2021\n"
     ]
    }
   ],
   "source": [
    "year =teenexzt@gmail.comteenexzt@gmail.com 2021\n",
    "print(year)"
   ]
  },
  {
   "cell_type": "code",
   "execution_count": null,
   "metadata": {
    "id": "2wSnzeiqyeiE",
    "outputId": "366875e4-9526-44ec-a7fb-534a70c21283"
   },
   "outputs": [
    {
     "name": "stdout",
     "output_type": "stream",
     "text": [
      "2022\n"
     ]
    }
   ],
   "source": [
    "new_year = year + 1 #Use the existing value to create a new one\n",
    "print(new_year)"
   ]
  },
  {
   "cell_type": "code",
   "execution_count": null,
   "metadata": {
    "id": "FMak_QFSyeiE",
    "outputId": "df66c536-f0cf-49d4-eebd-ade16f8ce6f8"
   },
   "outputs": [
    {
     "name": "stdout",
     "output_type": "stream",
     "text": [
      "20\n"
     ]
    }
   ],
   "source": [
    "### Copying ####\n",
    "first = 20\n",
    "second = first #copy first into second\n",
    "print(second)"
   ]
  },
  {
   "cell_type": "code",
   "execution_count": null,
   "metadata": {
    "id": "-A19hvRFyeiF",
    "outputId": "327ed487-7ca1-4213-8fe1-59c2ae7a48c0"
   },
   "outputs": [
    {
     "name": "stdout",
     "output_type": "stream",
     "text": [
      "45 20\n"
     ]
    }
   ],
   "source": [
    "first = 45 # updating first will not affect second which we have already copied\n",
    "print(first,second) #second remains unchanged."
   ]
  },
  {
   "cell_type": "code",
   "execution_count": null,
   "metadata": {
    "id": "3SNVjJH2yeiF"
   },
   "outputs": [],
   "source": [
    "#num = 10\n",
    "#print(num)\n",
    "\n",
    "#num +=5\n",
    "#print(num)\n",
    "\n",
    "#num -=5\n",
    "#print(num)\n",
    "\n",
    "#num *=2\n",
    "#print(num)\n",
    "\n",
    "#num /=2\n",
    "#print(num)\n",
    "\n",
    "#num **= 2\n",
    "#print(num)"
   ]
  },
  {
   "cell_type": "markdown",
   "metadata": {
    "id": "BV389_sDyeiF"
   },
   "source": [
    "# Logical Operators"
   ]
  },
  {
   "cell_type": "code",
   "execution_count": null,
   "metadata": {
    "id": "13OZTKiiyeiF",
    "outputId": "ee64a815-2371-4d55-dd18-46f47f9a5971"
   },
   "outputs": [
    {
     "name": "stdout",
     "output_type": "stream",
     "text": [
      "True\n"
     ]
    }
   ],
   "source": [
    "# Logical expressions are formed using Booleans.\n",
    "\n",
    "my_bool = True or False\n",
    "print(my_bool) #OR Expression"
   ]
  },
  {
   "cell_type": "code",
   "execution_count": null,
   "metadata": {
    "id": "TAJCiZMLyeiF",
    "outputId": "00bbe68e-d154-4968-f06d-2b18bfee18d3"
   },
   "outputs": [
    {
     "name": "stdout",
     "output_type": "stream",
     "text": [
      "False\n"
     ]
    }
   ],
   "source": [
    "my_bool = True and False\n",
    "print(my_bool) #AND Expression"
   ]
  },
  {
   "cell_type": "code",
   "execution_count": null,
   "metadata": {
    "id": "JRn5Ci19yeiG",
    "outputId": "1c32c736-20df-41ef-8033-6baca4122b21"
   },
   "outputs": [
    {
     "name": "stdout",
     "output_type": "stream",
     "text": [
      "True\n"
     ]
    }
   ],
   "source": [
    "my_bool = False\n",
    "print(not my_bool) #NOT Expression"
   ]
  },
  {
   "cell_type": "markdown",
   "metadata": {
    "id": "HCRyo0PVyeiG"
   },
   "source": [
    "## Comparison Operators"
   ]
  },
  {
   "cell_type": "code",
   "execution_count": null,
   "metadata": {
    "id": "LbGMKU-_yeiG",
    "outputId": "6087a858-0ad9-424f-a2ac-ddb1cd0ef9a8"
   },
   "outputs": [
    {
     "name": "stdout",
     "output_type": "stream",
     "text": [
      "True\n"
     ]
    }
   ],
   "source": [
    "print('a'<'b')"
   ]
  },
  {
   "cell_type": "code",
   "execution_count": null,
   "metadata": {
    "id": "oqt7WA9SyeiG",
    "outputId": "d5700120-ad60-4de9-8a35-f2263824f2c6"
   },
   "outputs": [
    {
     "name": "stdout",
     "output_type": "stream",
     "text": [
      "True\n"
     ]
    }
   ],
   "source": [
    "office = \"datalab\"\n",
    "office_copy = \"datalab\"\n",
    "print(office == office_copy)"
   ]
  },
  {
   "cell_type": "markdown",
   "metadata": {
    "id": "vl8kPEBMyeiG"
   },
   "source": [
    "# String Concatenation (Joining)"
   ]
  },
  {
   "cell_type": "code",
   "execution_count": null,
   "metadata": {
    "id": "Z6KsIQUYyeiH",
    "outputId": "ac30658b-4e2a-4a6c-aeef-0bd3259f39ec"
   },
   "outputs": [
    {
     "name": "stdout",
     "output_type": "stream",
     "text": [
      "BatMan\n"
     ]
    }
   ],
   "source": [
    "first_half = \"Bat\"\n",
    "second_half = \"Man\"\n",
    "full_name = first_half + second_half\n",
    "print(full_name)"
   ]
  },
  {
   "cell_type": "code",
   "execution_count": null,
   "metadata": {
    "id": "o1FY-CYryeiH",
    "outputId": "9d787243-998e-4057-f049-aa386dbd3e7e"
   },
   "outputs": [
    {
     "name": "stdout",
     "output_type": "stream",
     "text": [
      "BridgetSalawu\n"
     ]
    }
   ],
   "source": [
    "first_name = \"Bridget\"\n",
    "surname = \"Salawu\"\n",
    "full_name = first_name + surname\n",
    "print(full_name)"
   ]
  },
  {
   "cell_type": "code",
   "execution_count": null,
   "metadata": {
    "id": "K6dD9AqzyeiH",
    "outputId": "b2e349d2-41f5-4ff5-c412-dcfe19398416"
   },
   "outputs": [
    {
     "name": "stdout",
     "output_type": "stream",
     "text": [
      "bridgetbridgetbridget\n"
     ]
    }
   ],
   "source": [
    "print(\"bridget\"* 3) #The * operator allows us to multiply a string, resulting in a repeating pattern."
   ]
  },
  {
   "cell_type": "code",
   "execution_count": null,
   "metadata": {
    "id": "YUU7IzfjyeiH",
    "outputId": "ca555eaf-e6b7-4add-99b5-2e9a55bf2de6"
   },
   "outputs": [
    {
     "name": "stdout",
     "output_type": "stream",
     "text": [
      "Onna Aliu, Roseyln, Sola, Toyin, Chinenye, Modupe\n"
     ]
    }
   ],
   "source": [
    "datalab_interns =\"Onna Aliu, Roseyln, Sola, Toyin, Chinenye, Modupe\"\n",
    "print(datalab_interns)"
   ]
  },
  {
   "cell_type": "code",
   "execution_count": null,
   "metadata": {
    "id": "wUtMqEe6yeiH",
    "outputId": "3d57bac9-edeb-4192-cb36-f5e9adbe8eda"
   },
   "outputs": [
    {
     "name": "stdout",
     "output_type": "stream",
     "text": [
      "True\n"
     ]
    }
   ],
   "source": [
    "print('Chinenye' in datalab_interns)"
   ]
  },
  {
   "cell_type": "code",
   "execution_count": null,
   "metadata": {
    "id": "BE5-uNWayeiI",
    "outputId": "0977b9af-07fc-4318-8b72-f9092dbd0db1"
   },
   "outputs": [
    {
     "name": "stdout",
     "output_type": "stream",
     "text": [
      "False\n"
     ]
    }
   ],
   "source": [
    "print('Bayo' in datalab_interns)"
   ]
  },
  {
   "cell_type": "code",
   "execution_count": null,
   "metadata": {
    "id": "ZKdv8bbZyeiI"
   },
   "outputs": [],
   "source": [
    ""
   ]
  },
  {
   "cell_type": "markdown",
   "metadata": {
    "id": "E48R0t76yeiI"
   },
   "source": [
    "# Python List "
   ]
  },
  {
   "cell_type": "code",
   "execution_count": null,
   "metadata": {
    "id": "4Xw6HFMUyeiI"
   },
   "outputs": [],
   "source": [
    "#A python list could key-value pairs, multiple variable types (numeric,alphanumeric)"
   ]
  },
  {
   "cell_type": "code",
   "execution_count": null,
   "metadata": {
    "id": "hJ5YF6CfyeiI",
    "outputId": "2893842b-5423-4fae-c6a7-08ba789bf1ba"
   },
   "outputs": [
    {
     "name": "stdout",
     "output_type": "stream",
     "text": [
      "[1, 3, 'intern', 34, 'S234']\n"
     ]
    }
   ],
   "source": [
    "#Example of Python Numeric\n",
    "my = [1,3,\"intern\",34,\"S234\"]\n",
    "print(my)"
   ]
  },
  {
   "cell_type": "code",
   "execution_count": null,
   "metadata": {
    "id": "7qhFfTg9yeiI",
    "outputId": "e8110b49-09d5-4392-8d1d-2e197a11ff5b"
   },
   "outputs": [
    {
     "name": "stdout",
     "output_type": "stream",
     "text": [
      "['bridget', 1, 'Lee', 2, 'Chinenye', 3, 'Toyin', 4, 'Mercy', 5, 'Modupe', 6]\n"
     ]
    }
   ],
   "source": [
    "datalab_interns =[\"bridget\", 1, \"Lee\", 2, \"Chinenye\", 3, \"Toyin\", 4, \"Mercy\",5, \"Modupe\",6]\n",
    "print(datalab_interns)"
   ]
  },
  {
   "cell_type": "code",
   "execution_count": null,
   "metadata": {
    "id": "VvdmuBtzyeiJ",
    "outputId": "6b5e78e2-8f82-4dc3-bcc7-ab9c706b1883"
   },
   "outputs": [
    {
     "name": "stdout",
     "output_type": "stream",
     "text": [
      "['Modupe', 6]\n"
     ]
    }
   ],
   "source": [
    "print(datalab_interns[10:12]) #Lists can be indexed and sliced just like strings"
   ]
  },
  {
   "cell_type": "code",
   "execution_count": null,
   "metadata": {
    "id": "Ee4wdJMzyeiJ"
   },
   "outputs": [],
   "source": [
    "print(len(datalab_interns))"
   ]
  },
  {
   "cell_type": "code",
   "execution_count": null,
   "metadata": {
    "id": "d9erU5I6yeiJ",
    "outputId": "aa2db568-4417-4406-86df-df937d661a58"
   },
   "outputs": [
    {
     "name": "stdout",
     "output_type": "stream",
     "text": [
      "\n",
      "Multi-Dimensional List: \n",
      "[['omolade', 'For'], ['President', '2022']]\n"
     ]
    }
   ],
   "source": [
    "# Creating a Multi-Dimensional List (By Nesting a list inside a List) \n",
    "List = [['omolade', 'For'] , ['President','2022']] \n",
    "print(\"\\nMulti-Dimensional List: \") \n",
    "print(List)"
   ]
  },
  {
   "cell_type": "code",
   "execution_count": null,
   "metadata": {
    "id": "ewtBkVUWyeiJ",
    "outputId": "134c185f-870b-4c4b-f7de-b84de155df35"
   },
   "outputs": [
    {
     "name": "stdout",
     "output_type": "stream",
     "text": [
      "\n",
      "List with the use of Mixed Values: \n",
      "[1, 2, '', 4, 'Mercy', 6, 'Nangi']\n"
     ]
    }
   ],
   "source": [
    "# Creating a List with mixed type of values (Having numbers and strings) \n",
    "List = [1, 2, '', 4, 'Mercy', 6, 'Nangi'] \n",
    "print(\"\\nList with the use of Mixed Values: \") \n",
    "print(List)"
   ]
  },
  {
   "cell_type": "markdown",
   "metadata": {
    "id": "7J3_wjXGyeiK"
   },
   "source": [
    "# Python program to demonstrate Addition of elements into a List "
   ]
  },
  {
   "cell_type": "code",
   "execution_count": null,
   "metadata": {
    "id": "6Vtc3L61yeiK"
   },
   "outputs": [],
   "source": [
    "# Creating a List \n",
    "List = [] \n",
    "print(\"Initial blank List: \") \n",
    "print(List) "
   ]
  },
  {
   "cell_type": "code",
   "execution_count": null,
   "metadata": {
    "id": "Irk0kfgGyeiK"
   },
   "outputs": [],
   "source": [
    "# Addition of Elements in the List \n",
    "List.append(1) \n",
    "List.append(2) \n",
    "List.append(4) \n",
    "print(\"\\nList after Addition of Three elements: \") \n",
    "print(List) "
   ]
  },
  {
   "cell_type": "code",
   "execution_count": null,
   "metadata": {
    "id": "LO9oprTMyeiK"
   },
   "outputs": [],
   "source": [
    "# Adding elements to the List using Iterator (Python Iterator)\n",
    "for i in range(1, 4):\n",
    "    List.append(i) \n",
    "print(\"\\nList after Addition of elements from 1-3: \") \n",
    "print(List) "
   ]
  },
  {
   "cell_type": "code",
   "execution_count": null,
   "metadata": {
    "id": "rhlXx6vcyeiK"
   },
   "outputs": [],
   "source": [
    "# Adding Tuples to the List \n",
    "List.append((5, 6)) \n",
    "print(\"\\nList after Addition of a Tuple: \")\n",
    "List2 = ['Aderonke', 'Fatimat'] \n",
    "List.append(List2) \n",
    "print(\"\\nList after Addition of a List: \") \n",
    "print(List) "
   ]
  },
  {
   "cell_type": "code",
   "execution_count": null,
   "metadata": {
    "id": "WlAncwJDyeiL"
   },
   "outputs": [],
   "source": [
    "# Creating a Multi-Dimensional List (By Nesting a list inside a List) \n",
    "List = [['Team', 'Ploty'] , ['For','Real' ]]\n",
    "print(List) "
   ]
  },
  {
   "cell_type": "markdown",
   "metadata": {
    "id": "KZ6Gw6LNyeiL"
   },
   "source": [
    "# Accessing an element from the multi-Dimensional List using index number "
   ]
  },
  {
   "cell_type": "code",
   "execution_count": null,
   "metadata": {
    "id": "zY3P2uQXyeiL"
   },
   "outputs": [],
   "source": [
    "print(\"Acessing a element from a Multi-Dimensional list\") \n",
    "print(List[0][1]) \n",
    "print(List[1][0])"
   ]
  },
  {
   "cell_type": "markdown",
   "metadata": {
    "id": "hQx1Id93yeiL"
   },
   "source": [
    "# Python program to demonstrate Removal of elements in a List "
   ]
  },
  {
   "cell_type": "code",
   "execution_count": null,
   "metadata": {
    "id": "E6vtevZiyeiL"
   },
   "outputs": [],
   "source": [
    "# Creating a List \n",
    "List = [1, 2, 3, 4, 5, 6, 7, 8, 9, 10, 11, 12] \n",
    "print(\"Intial List: \") \n",
    "print(List) "
   ]
  },
  {
   "cell_type": "code",
   "execution_count": null,
   "metadata": {
    "id": "pMcDGmnQyeiL"
   },
   "outputs": [],
   "source": [
    "# Removing elements from List using Remove() method \n",
    "List.remove(5)"
   ]
  },
  {
   "cell_type": "code",
   "execution_count": null,
   "metadata": {
    "id": "jkoLYs_9yeiM"
   },
   "outputs": [],
   "source": [
    "List.remove(6) "
   ]
  },
  {
   "cell_type": "code",
   "execution_count": null,
   "metadata": {
    "id": "fNas_vJNyeiM"
   },
   "outputs": [],
   "source": [
    "print(\"\\nList after Removal of two elements: \") \n",
    "print(List) "
   ]
  },
  {
   "cell_type": "code",
   "execution_count": null,
   "metadata": {
    "id": "JxLC1ar1yeiM"
   },
   "outputs": [],
   "source": [
    "##### Removing elements from List using iterator method ###### \n",
    "for i in range(1, 5): \n",
    "\tList.remove(i) \n",
    "print(\"\\nList after Removing a range of elements: \") \n",
    "print(List) "
   ]
  },
  {
   "cell_type": "code",
   "execution_count": null,
   "metadata": {
    "id": "TDf_psAkyeiM"
   },
   "outputs": [],
   "source": [
    "List = [1,2,3,4,5] \n",
    "\n",
    "#### Removing element from the Set using the pop() method #######\n",
    "List.pop() \n",
    "print(\"\\nList after popping an element: \") \n",
    "print(List) "
   ]
  },
  {
   "cell_type": "code",
   "execution_count": null,
   "metadata": {
    "id": "tpv27ziPyeiM"
   },
   "outputs": [],
   "source": [
    "# Removing element at a specific location from the Set using the pop() method \n",
    "List.pop(2) \n",
    "print(\"\\nList after popping a specific element: \") \n",
    "print(List) "
   ]
  },
  {
   "cell_type": "markdown",
   "metadata": {
    "id": "JMBs1LK2yeiO"
   },
   "source": [
    "# WRITING YOUR OWN PROGRAM ##"
   ]
  },
  {
   "cell_type": "code",
   "execution_count": null,
   "metadata": {
    "id": "U24EuEGuyeiP"
   },
   "outputs": [],
   "source": [
    "total = 0\n",
    "\n",
    "# creating a list\n",
    "list1 = [1,2,3,4,5,6,7]\n",
    "\n",
    "# Iterate each element in the list\n",
    "# and add them in variable total\n",
    "for element in range(0, len(list1)):\n",
    "    total = total + list1[element]\n",
    "\n",
    "# printing total value\n",
    "print(\"Sum of all elements in the list: \", total)"
   ]
  },
  {
   "cell_type": "markdown",
   "metadata": {
    "id": "I08xD3hiyeiP"
   },
   "source": [
    "# Python program to find largest element in list"
   ]
  },
  {
   "cell_type": "code",
   "execution_count": null,
   "metadata": {
    "id": "4vxiY_7YyeiP"
   },
   "outputs": [],
   "source": [
    "# Python program to find largest number in a list\n",
    "\n",
    "# A list of numbers is given\n",
    "lis = [1, 10, 40, 36, 16]\n",
    "\n",
    "# sorting the given list \"lis\"\n",
    "# sort() function sorts the list in ascending order\n",
    "lis.sort()\n",
    "\n",
    "# Displaying the last element of the list\n",
    "# which is the largest number in the sorted list\n",
    "print(\"Largest number in the list is:\", lis[-1])"
   ]
  },
  {
   "cell_type": "code",
   "execution_count": null,
   "metadata": {
    "id": "RGmAtPnUyeiQ"
   },
   "outputs": [],
   "source": [
    "# Python program to find largest number in a list\n",
    "# using max() function\n",
    "\n",
    "# A list of numbers\n",
    "lis = [19, 10, 45, 26, 6]\n",
    "\n",
    "# max() method returns the largest element of the list\n",
    "print(\"Largest number of the list is:\", max(lis))"
   ]
  },
  {
   "cell_type": "markdown",
   "metadata": {
    "id": "fBTowRF4yeiR"
   },
   "source": [
    "# Finding largest number in a list, where list is provided by user"
   ]
  },
  {
   "cell_type": "code",
   "execution_count": null,
   "metadata": {
    "id": "FM9p3jbOyeiR"
   },
   "outputs": [],
   "source": [
    "# creating empty list\n",
    "lis = []\n",
    "\n",
    "# user enters the number of elements to put in list\n",
    "count = int(input('How many numbers? '))\n",
    "\n",
    "# iterating till count to append all input elements in list\n",
    "for n in range(count):\n",
    "    number = int(input('Enter number: '))\n",
    "    lis.append(number)\n",
    "\n",
    "# displaying largest element\n",
    "print(\"Largest element of the list is :\", max(lis))"
   ]
  },
  {
   "cell_type": "markdown",
   "metadata": {
    "id": "2bm5OBw9yeiS"
   },
   "source": [
    "# Supermarket grocery list in python"
   ]
  },
  {
   "cell_type": "code",
   "execution_count": null,
   "metadata": {
    "id": "Cu70YvZuyeiS"
   },
   "outputs": [],
   "source": [
    "print(\"WELCOME TO RAMAT SUPERMARKET\")\n",
    "grocery_item = {} \n",
    "grocery_history = [] \n",
    "\n",
    "stop = False \n",
    "\n",
    "while not stop:\n",
    "    item_name = input(\"Item name:\\n\")   \n",
    "    quantity = input(\"Quantity purchased:\\n\")   \n",
    "    cost = input(\"Price per item:\\n\")\n",
    "    grocery_item = {'name':item_name, 'number': int(quantity), \n",
    "                    'price': float(cost)}\n",
    "    grocery_history.append(grocery_item)\n",
    "    user_input = input(\"Would you like to enter another item?\\nType 'c' for continue or 'q' to quit:\\n\")\n",
    "    if user_input == 'q':\n",
    "      stop = True\n",
    "    \n",
    "grand_total = 0  \n",
    "\n",
    "for index, item in enumerate(grocery_history):\n",
    "    item_total = item['number'] * item['price']\n",
    "    grand_total = grand_total + item_total\n",
    "    print('%d %s @ N%.2f Sub_Total N%.2f' % (item['number'], item['name'], item['price'], item_total)) \n",
    "    item_total = 0\n",
    "    \n",
    "# %d %s are used for formatting strings. %s acts a placeholder for a string while %d acts as a placeholder for a number    \n",
    "\n",
    "print('Grand total: N%.2f' % grand_total)"
   ]
  },
  {
   "cell_type": "markdown",
   "metadata": {
    "id": "K2u7T3jvyeiS"
   },
   "source": [
    "# python program to give shop name"
   ]
  },
  {
   "cell_type": "code",
   "execution_count": null,
   "metadata": {
    "id": "v0UJCiVRyeiS"
   },
   "outputs": [],
   "source": [
    "print(\"Welcome to the shop Name Generator.\")\n",
    "street = input(\"What's name of the city you grew up in?\\n\")\n",
    "pet = input(\"What's your pet's name?\\n\")\n",
    "print(\"Your shop name could be \" + street + \" \" + pet)"
   ]
  },
  {
   "cell_type": "code",
   "execution_count": null,
   "metadata": {
    "id": "FLVOEkUXyeiT"
   },
   "outputs": [],
   "source": [
    ""
   ]
  }
 ],
 "metadata": {
  "colab": {
   "name": "Foundational Python 1.ipynb",
   "provenance": []
  },
  "kernelspec": {
   "display_name": "Python 3",
   "language": "python",
   "name": "python3"
  },
  "language_info": {
   "codemirror_mode": {
    "name": "ipython",
    "version": 3
   },
   "file_extension": ".py",
   "mimetype": "text/x-python",
   "name": "python",
   "nbconvert_exporter": "python",
   "pygments_lexer": "ipython3",
   "version": "3.8.5"
  }
 },
 "nbformat": 4,
 "nbformat_minor": 0
}
