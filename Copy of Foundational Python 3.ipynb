{
 "cells": [
  {
   "cell_type": "markdown",
   "metadata": {},
   "source": [
    "# Foundational Python 3: Recap and Extras"
   ]
  },
  {
   "cell_type": "markdown",
   "metadata": {},
   "source": [
    "Python is a versatile programming language that is used for wide range  of applications such as DATA SCIENCE, MACHINE LEARNING, \n",
    "WEB DEVELOPMENT etc.it has a strong community, and its easy to learn"
   ]
  },
  {
   "cell_type": "markdown",
   "metadata": {},
   "source": [
    "## simple calculation with the print function"
   ]
  },
  {
   "cell_type": "code",
   "execution_count": 1,
   "metadata": {},
   "outputs": [
    {
     "name": "stdout",
     "output_type": "stream",
     "text": [
      "75.0\n"
     ]
    }
   ],
   "source": [
    "# we use the print function to output values to the screen .\n",
    "# it is an in-built function.\n",
    "length=(12.5)\n",
    "breath=(6)\n",
    "area = length*breath\n",
    "print(area)"
   ]
  },
  {
   "cell_type": "code",
   "execution_count": 2,
   "metadata": {},
   "outputs": [
    {
     "name": "stdout",
     "output_type": "stream",
     "text": [
      "91.19999999999999\n"
     ]
    }
   ],
   "source": [
    "length= 15.2\n",
    "breadth = 8\n",
    "area = length*breath\n",
    "print(area)"
   ]
  },
  {
   "cell_type": "markdown",
   "metadata": {},
   "source": [
    "## DATA TYPE COVERSION "
   ]
  },
  {
   "cell_type": "code",
   "execution_count": 3,
   "metadata": {},
   "outputs": [
    {
     "name": "stdout",
     "output_type": "stream",
     "text": [
      "12\n"
     ]
    }
   ],
   "source": [
    "# converts float to integer by chopping off the decimal part of the number\n",
    "amount=int(12.0)\n",
    "print(amount)"
   ]
  },
  {
   "cell_type": "code",
   "execution_count": 4,
   "metadata": {},
   "outputs": [
    {
     "name": "stdout",
     "output_type": "stream",
     "text": [
      "12\n"
     ]
    }
   ],
   "source": [
    "amount = int(12.6)\n",
    "print(amount)"
   ]
  },
  {
   "cell_type": "code",
   "execution_count": 10,
   "metadata": {},
   "outputs": [
    {
     "name": "stdout",
     "output_type": "stream",
     "text": [
      "45.0\n"
     ]
    }
   ],
   "source": [
    "# converts a decimal number into integer\n",
    "amount= float(45)\n",
    "print(amount)"
   ]
  },
  {
   "cell_type": "markdown",
   "metadata": {},
   "source": [
    "## STRINGS"
   ]
  },
  {
   "cell_type": "code",
   "execution_count": 5,
   "metadata": {},
   "outputs": [
    {
     "name": "stdout",
     "output_type": "stream",
     "text": [
      "phillip\n"
     ]
    }
   ],
   "source": [
    "# anything written in a single or double quote is read has string(text)\n",
    "name= 'phillip'\n",
    "print (name)"
   ]
  },
  {
   "cell_type": "code",
   "execution_count": 17,
   "metadata": {},
   "outputs": [
    {
     "ename": "SyntaxError",
     "evalue": "invalid syntax (<ipython-input-17-e6793356d57c>, line 2)",
     "output_type": "error",
     "traceback": [
      "\u001b[1;36m  File \u001b[1;32m\"<ipython-input-17-e6793356d57c>\"\u001b[1;36m, line \u001b[1;32m2\u001b[0m\n\u001b[1;33m    storename='Feyi's store'\u001b[0m\n\u001b[1;37m                    ^\u001b[0m\n\u001b[1;31mSyntaxError\u001b[0m\u001b[1;31m:\u001b[0m invalid syntax\n"
     ]
    }
   ],
   "source": [
    "# this returns error, why?\n",
    "storename='Feyi's store'\n",
    "print (storename)"
   ]
  },
  {
   "cell_type": "code",
   "execution_count": 6,
   "metadata": {},
   "outputs": [
    {
     "name": "stdout",
     "output_type": "stream",
     "text": [
      "Feyi's store\n"
     ]
    }
   ],
   "source": [
    "# double quote hels to differentiate the quotes\n",
    "storename=\"Feyi's store\"\n",
    "print (storename)"
   ]
  },
  {
   "cell_type": "markdown",
   "metadata": {},
   "source": [
    "## string concatenation\n",
    "we can join two strings using the plus operator as shown below"
   ]
  },
  {
   "cell_type": "code",
   "execution_count": 7,
   "metadata": {},
   "outputs": [
    {
     "name": "stdout",
     "output_type": "stream",
     "text": [
      "helloJames\n"
     ]
    }
   ],
   "source": [
    "salute= 'hello'\n",
    "name='James'\n",
    "print(salute+name)"
   ]
  },
  {
   "cell_type": "code",
   "execution_count": 8,
   "metadata": {},
   "outputs": [
    {
     "name": "stdout",
     "output_type": "stream",
     "text": [
      "hello James\n"
     ]
    }
   ],
   "source": [
    "# here, we save the oeration in a variable called 'greeting'\n",
    "# we also concatenate a space into the operation \n",
    "#(remember space is a string, so it shoukld be in a quote)\n",
    "salute= 'hello'\n",
    "name='James'\n",
    "greeting = salute+' '+name\n",
    "print(greeting)"
   ]
  },
  {
   "cell_type": "code",
   "execution_count": 9,
   "metadata": {},
   "outputs": [
    {
     "name": "stdout",
     "output_type": "stream",
     "text": [
      "what's your name?feyi\n",
      "hello feyi\n"
     ]
    }
   ],
   "source": [
    "# the input function allows the responder to specify his/her name\n",
    "salute= 'hello'\n",
    "name=input(\"what's your name?\")\n",
    "greeting = salute+' '+name\n",
    "print(greeting)"
   ]
  },
  {
   "cell_type": "code",
   "execution_count": 1,
   "metadata": {},
   "outputs": [
    {
     "name": "stdout",
     "output_type": "stream",
     "text": [
      "what's your name?\n",
      "Feyi\n",
      "hello Feyi\n"
     ]
    }
   ],
   "source": [
    "salute= 'hello'\n",
    "name= input(\"what's your name?\\n\")\n",
    "greeting = salute+' '+name\n",
    "print(greeting)"
   ]
  },
  {
   "cell_type": "markdown",
   "metadata": {},
   "source": [
    "## Calculating age decades"
   ]
  },
  {
   "cell_type": "code",
   "execution_count": 7,
   "metadata": {},
   "outputs": [
    {
     "name": "stdout",
     "output_type": "stream",
     "text": [
      "how old are you?\n",
      "46\n",
      "you are 4decades 6years old\n"
     ]
    }
   ],
   "source": [
    "age= int(input(\"how old are you?\\n\")) # int changes the age from string to integer\n",
    "decades = age//10 # double slash divides but returns only the quotient, which is what we need for the decade\n",
    "years = age%10    # the returns the remainder \n",
    "print(\"you are\"+\" \"+str(decades) +\"decades\" +\" \" + str(years) + \"years old\")"
   ]
  },
  {
   "cell_type": "markdown",
   "metadata": {},
   "source": [
    "# CONDITIONAL OR IF STATEMENTS\n",
    "condition statements help us to make decision in programming\n",
    "1. an IF statement let us decide what to do\n",
    "2. "
   ]
  },
  {
   "cell_type": "code",
   "execution_count": 8,
   "metadata": {},
   "outputs": [
    {
     "data": {
      "text/plain": [
       "True"
      ]
     },
     "execution_count": 8,
     "metadata": {},
     "output_type": "execute_result"
    }
   ],
   "source": [
    "temp = 95\n",
    "temp==95"
   ]
  },
  {
   "cell_type": "markdown",
   "metadata": {},
   "source": [
    "## IF statement"
   ]
  },
  {
   "cell_type": "code",
   "execution_count": 14,
   "metadata": {},
   "outputs": [
    {
     "name": "stdout",
     "output_type": "stream",
     "text": [
      "its too hot\n",
      "stay inside!\n"
     ]
    }
   ],
   "source": [
    "temperature = 95\n",
    "if temperature >=90:\n",
    "    print(\"its too hot\")\n",
    "    print(\"stay inside!\")\n",
    "# any indented code that comes after an if statement is called a code block.\n",
    "# here the if condition is true, so it continues with the code block"
   ]
  },
  {
   "cell_type": "code",
   "execution_count": 15,
   "metadata": {},
   "outputs": [],
   "source": [
    "temperature = 81\n",
    "if temperature >=90:\n",
    "    print(\"its too hot\")\n",
    "    print(\"stay inside!\")\n",
    "    # here, the if condition is false, so the code block  will not work"
   ]
  },
  {
   "cell_type": "code",
   "execution_count": 1,
   "metadata": {},
   "outputs": [
    {
     "name": "stdout",
     "output_type": "stream",
     "text": [
      "Have a good day!\n"
     ]
    }
   ],
   "source": [
    "temperature = 81\n",
    "if temperature >=90:\n",
    "    print(\"its too hot\")\n",
    "    print(\"stay inside!\")\n",
    "print(\"Have a good day!\")\n",
    "# here the if condition is false, so skips the code block and continues with the next line of code.\n",
    "# note that the indentation for the code block is a 4 spaces"
   ]
  },
  {
   "cell_type": "markdown",
   "metadata": {},
   "source": [
    "Another alternative to this is using the if else condition.\n",
    "that is, the else condition runs when the if condition is false!"
   ]
  },
  {
   "cell_type": "code",
   "execution_count": 3,
   "metadata": {},
   "outputs": [
    {
     "name": "stdout",
     "output_type": "stream",
     "text": [
      "enjoy the outdoor!\n"
     ]
    }
   ],
   "source": [
    "temperature = 75\n",
    "if temperature >=80:\n",
    "    print(\"its too hot\")\n",
    "    print(\"stay inside!\")\n",
    "else:\n",
    "    print('enjoy the outdoor!')"
   ]
  },
  {
   "cell_type": "code",
   "execution_count": 4,
   "metadata": {},
   "outputs": [
    {
     "name": "stdout",
     "output_type": "stream",
     "text": [
      "its too cold\n",
      "stay inside!\n"
     ]
    }
   ],
   "source": [
    "temperature = 65\n",
    "if temperature >80:\n",
    "    print(\"its too hot\")\n",
    "    print(\"stay inside!\")\n",
    "elif temperature < 71:\n",
    "    print(\"its too cold\")\n",
    "    print(\"stay inside!\")\n",
    "else:\n",
    "    print('enjoy the outdoor!')\n",
    "# the first if condition is false, if proceeds to the elif condition,\n",
    "# the elif condition is true so, it runs the code clock under it\n",
    "# no need for the else condition.\n",
    "# paradventure the elif condition was also false, it would have continued to the else condition."
   ]
  },
  {
   "cell_type": "markdown",
   "metadata": {},
   "source": [
    "# Combinning two or more if statement\n"
   ]
  },
  {
   "cell_type": "code",
   "execution_count": 6,
   "metadata": {},
   "outputs": [
    {
     "name": "stdout",
     "output_type": "stream",
     "text": [
      "enjoy the outside\n"
     ]
    }
   ],
   "source": [
    "# LOGICAL 'OR'\n",
    "\n",
    "temperature = 75\n",
    "if temperature > 81 or  temperature < 61:\n",
    "    print(\"stay inside\")\n",
    "else:\n",
    "     print(\"enjoy the outside\")"
   ]
  },
  {
   "cell_type": "markdown",
   "metadata": {},
   "source": [
    "for the logical \"OR\" to return true, at least one of the conditions must be true, otherwise it will return false\n"
   ]
  },
  {
   "cell_type": "code",
   "execution_count": 1,
   "metadata": {},
   "outputs": [
    {
     "name": "stdout",
     "output_type": "stream",
     "text": [
      "stay inside\n"
     ]
    }
   ],
   "source": [
    "temperature = 50\n",
    "if temperature > 81 or  temperature < 61:\n",
    "    print(\"stay inside\")\n",
    "else:\n",
    "     print(\"enjoy the outside\")"
   ]
  },
  {
   "cell_type": "markdown",
   "metadata": {},
   "source": [
    "# LOGICAL OPERATOR \"AND\"\n",
    "for the logical and to return true, all the conditioms must be true"
   ]
  },
  {
   "cell_type": "code",
   "execution_count": 3,
   "metadata": {},
   "outputs": [],
   "source": [
    "temperature = 75\n",
    "forecast = \"rain\""
   ]
  },
  {
   "cell_type": "code",
   "execution_count": 4,
   "metadata": {},
   "outputs": [
    {
     "name": "stdout",
     "output_type": "stream",
     "text": [
      "Stay inside!\n"
     ]
    }
   ],
   "source": [
    "temperature = 75\n",
    "forecast = \"rain\"\n",
    "if temperature < 80 and forecast != \"rain\": \n",
    " print(\"Go outside!\") \n",
    "else: \n",
    " print(\"Stay inside!\")"
   ]
  },
  {
   "cell_type": "code",
   "execution_count": 6,
   "metadata": {},
   "outputs": [
    {
     "name": "stdout",
     "output_type": "stream",
     "text": [
      "Go outside!\n"
     ]
    }
   ],
   "source": [
    "temperature = 75\n",
    "forecast = \"sunny\"\n",
    "if temperature < 80 and forecast != \"rain\": \n",
    " print(\"Go outside!\") \n",
    "else: \n",
    " print(\"Stay inside!\")"
   ]
  },
  {
   "cell_type": "markdown",
   "metadata": {},
   "source": [
    "# LOGICAL OPERATOR \"NOT\"\n",
    "not true = false\n",
    "not false = true"
   ]
  },
  {
   "cell_type": "code",
   "execution_count": 8,
   "metadata": {},
   "outputs": [
    {
     "name": "stdout",
     "output_type": "stream",
     "text": [
      "Stay inside!\n"
     ]
    }
   ],
   "source": [
    "forecast = \"rain\"\n",
    "if not forecast == \"rain\": \n",
    " print(\"Go outside!\") \n",
    "else: \n",
    " print(\"Stay inside!\")"
   ]
  },
  {
   "cell_type": "markdown",
   "metadata": {},
   "source": [
    "#  BOOLEAN VARIABLE\n",
    "boolean store true or false value\n",
    "here we are usint the boolean to store whether its raining or not"
   ]
  },
  {
   "cell_type": "code",
   "execution_count": 9,
   "metadata": {},
   "outputs": [
    {
     "name": "stdout",
     "output_type": "stream",
     "text": [
      "Stay inside!\n"
     ]
    }
   ],
   "source": [
    "raining = True\n",
    "if raining: \n",
    " print(\"Stay inside!\")"
   ]
  },
  {
   "cell_type": "code",
   "execution_count": 10,
   "metadata": {},
   "outputs": [
    {
     "name": "stdout",
     "output_type": "stream",
     "text": [
      "Stay inside!\n"
     ]
    }
   ],
   "source": [
    "raining = True \n",
    "if not raining: \n",
    " print(\"Go outside!\") \n",
    "else: \n",
    " print(\"Stay inside!\")"
   ]
  },
  {
   "cell_type": "markdown",
   "metadata": {},
   "source": [
    "# ROCK, PAPER SCISSORS GAME"
   ]
  },
  {
   "cell_type": "code",
   "execution_count": 17,
   "metadata": {},
   "outputs": [
    {
     "name": "stdout",
     "output_type": "stream",
     "text": [
      "Do you want - rock, paper, or scissors?\n",
      "paper\n",
      "YOU LOOSE, COMPUTER WINS\n"
     ]
    }
   ],
   "source": [
    "computer_choice = 'scissors'\n",
    "user_choice = input(\"Do you want - rock, paper, or scissors?\\n\")\n",
    "\n",
    "if computer_choice == user_choice:\n",
    "    print(\"TIE\")\n",
    "    \n",
    "elif computer_choice == \"rock\" and user_choice == \"paper\":\n",
    "    print(\"WIN\")\n",
    "elif computer_choice == \"scissors\" and user_choice == \"rock\":\n",
    "    print(\"WIN\")\n",
    "elif computer_choice == \"paper\" and user_choice == \"scissors\":\n",
    "    print(\"WIN\") \n",
    "else: print(\"YOU LOOSE, COMPUTER WINS\")\n"
   ]
  },
  {
   "cell_type": "markdown",
   "metadata": {},
   "source": [
    "# USING RANDOM MODULE\n",
    "For the game above, we have fixed the computer to always choose scissors, \n",
    "how can we make the computer select randomly between rock,paper scissors.\n",
    "So far, we have been working with python and its in-built functions, but if you need something extra,\n",
    "you can import it from python standard library. https://docs.python.org/3/library\n",
    "\n",
    "we are using the \n",
    "# numeric and mathematical modules/\n",
    "randint: this returns random integer\n",
    "\n"
   ]
  },
  {
   "cell_type": "code",
   "execution_count": 18,
   "metadata": {},
   "outputs": [],
   "source": [
    "import random \n",
    "roll = random.randint(1,6)"
   ]
  },
  {
   "cell_type": "code",
   "execution_count": 23,
   "metadata": {},
   "outputs": [
    {
     "name": "stdout",
     "output_type": "stream",
     "text": [
      "The computer rolled a 3\n"
     ]
    }
   ],
   "source": [
    "import random #import thr random module\n",
    "roll = random.randint(1,6) # this will return a random integer between 1 and 6\n",
    "print(\"The computer rolled a \" + str(roll)) # \"str\" converts the integer into a string so we can concatenate it into a sentence"
   ]
  },
  {
   "cell_type": "code",
   "execution_count": 22,
   "metadata": {},
   "outputs": [
    {
     "name": "stdout",
     "output_type": "stream",
     "text": [
      "Guess the dice roll:\n",
      "5\n"
     ]
    }
   ],
   "source": [
    "#LETS TURN THIS INTO A GAME, WHERE WE ASK THE USER TO GUESS THE WHAT THE COMPUTER ROLL\n",
    "import random \n",
    "roll = random.randint(1,6) \n",
    "guess = int(input('Guess the dice roll:\\n'))\n",
    "#'int'converts the input into an integer so we can compare it with roll(which is also in integer\n",
    "if guess == roll:\n",
    "    print(\"Correct! They rolled a \" + str(roll))"
   ]
  },
  {
   "cell_type": "code",
   "execution_count": 37,
   "metadata": {},
   "outputs": [
    {
     "name": "stdout",
     "output_type": "stream",
     "text": [
      "Guess the dice roll:\n",
      "3\n",
      "Correct! computer rolled a 3\n"
     ]
    }
   ],
   "source": [
    "import random \n",
    "roll = random.randint(1,6) \n",
    "guess = int(input('Guess the dice roll:\\n'))\n",
    "if guess == roll:\n",
    " print(\"Correct! computer rolled a \" + str(roll))\n",
    "else:\n",
    " print(\"Wrong! computer rolled a \" + str(roll))"
   ]
  },
  {
   "cell_type": "markdown",
   "metadata": {},
   "source": [
    "lets apply this concept to our rock, papper scissors game.\n",
    "this time around, we will be using \"random.choice\" under function for sequences"
   ]
  },
  {
   "cell_type": "code",
   "execution_count": 12,
   "metadata": {},
   "outputs": [
    {
     "name": "stdout",
     "output_type": "stream",
     "text": [
      "Do you want - rock, paper, or scissors?\n",
      "rock\n",
      "You lose : Computer wins paper\n"
     ]
    }
   ],
   "source": [
    "import random\n",
    "\n",
    "computer_choice = random.choice(['scissors', 'rock', 'paper'])\n",
    "user_choice = input(\"Do you want - rock, paper, or scissors?\\n\")\n",
    "\n",
    "if computer_choice == user_choice:\n",
    "    print('TIE')\n",
    "elif user_choice == 'rock' and computer_choice == 'scissors':\n",
    "    print('WIN, the computer had ' + computer_choice)\n",
    "elif user_choice == 'paper' and computer_choice == 'rock':\n",
    "    print('WIN, the computer had ' + computer_choice)\n",
    "elif user_choice == 'scissors' and computer_choice == 'paper':\n",
    "    print('WIN, the computer had ' + computer_choice)\n",
    "else:\n",
    "    print('You lose : Computer wins it  + computer_choice)"
   ]
  },
  {
   "cell_type": "markdown",
   "metadata": {},
   "source": [
    "# LIST AND LOOPS"
   ]
  },
  {
   "cell_type": "markdown",
   "metadata": {},
   "source": [
    "A list is a container that store anything. We can have\n",
    "empty list, list of numbers, list of strings, list of mixed items and list of list"
   ]
  },
  {
   "cell_type": "code",
   "execution_count": 19,
   "metadata": {},
   "outputs": [],
   "source": [
    "# we use a square bracket to creat a list\n",
    "ourintern = ['israel','Emmanuel','Abike','Sayo',\"Aka\"]\n",
    "# in python the index of a list represents its position and it starts from zero"
   ]
  },
  {
   "cell_type": "code",
   "execution_count": 20,
   "metadata": {},
   "outputs": [],
   "source": [
    "# adding items to the list\n",
    "ourintern.append(\"Ibrahim\")"
   ]
  },
  {
   "cell_type": "code",
   "execution_count": 21,
   "metadata": {},
   "outputs": [
    {
     "name": "stdout",
     "output_type": "stream",
     "text": [
      "['israel', 'Emmanuel', 'Abike', 'Sayo', 'Aka', 'Ibrahim']\n"
     ]
    }
   ],
   "source": [
    "print(ourintern)"
   ]
  },
  {
   "cell_type": "code",
   "execution_count": 23,
   "metadata": {},
   "outputs": [
    {
     "name": "stdout",
     "output_type": "stream",
     "text": [
      "['israel', 'Emmanuel', 'Abike', 'Sayo', 'Ibrahim']\n"
     ]
    }
   ],
   "source": [
    "# Removes an item from the list\n",
    "ourintern.remove(\"Aka\")\n",
    "print(ourintern)"
   ]
  },
  {
   "cell_type": "code",
   "execution_count": 25,
   "metadata": {},
   "outputs": [
    {
     "name": "stdout",
     "output_type": "stream",
     "text": [
      "['israel', 'Emmanuel', 'Abike', 'Sayo']\n"
     ]
    }
   ],
   "source": [
    "# removing item using index\n",
    "del ourintern[4]\n",
    "print(ourintern)"
   ]
  },
  {
   "cell_type": "code",
   "execution_count": 32,
   "metadata": {},
   "outputs": [
    {
     "name": "stdout",
     "output_type": "stream",
     "text": [
      "Feyi is not an intern\n"
     ]
    }
   ],
   "source": [
    "# using if statement to check if an item exists in a list\n",
    "if \"Feyi\" in ourintern:\n",
    "    print(\"Feyi is an intern\")\n",
    "else:\n",
    "    print(\"Feyi is not an intern\")"
   ]
  },
  {
   "cell_type": "code",
   "execution_count": 34,
   "metadata": {},
   "outputs": [
    {
     "name": "stdout",
     "output_type": "stream",
     "text": [
      "israel\n",
      "Emmanuel\n",
      "Abike\n",
      "Sayo\n"
     ]
    }
   ],
   "source": [
    "# print each item in a list using \"FOR LOOP\"; looping over each item in a list\n",
    "for student in ourintern: # intern is a temporary place-holder representing each item in the list\n",
    "    print(student)"
   ]
  },
  {
   "cell_type": "markdown",
   "metadata": {},
   "source": [
    "# Creating Expenses Calculator"
   ]
  },
  {
   "cell_type": "code",
   "execution_count": 50,
   "metadata": {},
   "outputs": [
    {
     "data": {
      "text/plain": [
       "[0, 1, 2, 3, 4, 5, 6, 7, 8, 9]"
      ]
     },
     "execution_count": 50,
     "metadata": {},
     "output_type": "execute_result"
    }
   ],
   "source": [
    "# CREATING RANGE\n",
    "list(range(10))"
   ]
  },
  {
   "cell_type": "code",
   "execution_count": 51,
   "metadata": {},
   "outputs": [
    {
     "data": {
      "text/plain": [
       "[0, 5, 10, 15, 20, 25]"
      ]
     },
     "execution_count": 51,
     "metadata": {},
     "output_type": "execute_result"
    }
   ],
   "source": [
    "list(range(0,30,5)) # start from zero, stop at 30 step 5"
   ]
  },
  {
   "cell_type": "code",
   "execution_count": 1,
   "metadata": {},
   "outputs": [
    {
     "name": "stdout",
     "output_type": "stream",
     "text": [
      "You spent N67.35 on lunch this week.\n"
     ]
    }
   ],
   "source": [
    "expenses = [10.50, 8.50, 5.30, 15.05, 20.00, 5.00, 3.00]\n",
    "total = sum(expenses)\n",
    "print(\"You spent N\",total, \" on lunch this week.\", sep='')# remove the sep='' and observe\n",
    "# notice we didnt use + sign to concatenate, neither do we have to add(str), to convert total to string\n",
    "# the comma sign did the job"
   ]
  },
  {
   "cell_type": "code",
   "execution_count": 2,
   "metadata": {},
   "outputs": [
    {
     "name": "stdout",
     "output_type": "stream",
     "text": [
      "Enter an expense:54\n",
      "Enter an expense:53\n",
      "Enter an expense:21\n",
      "Enter an expense:12\n",
      "Enter an expense:45\n",
      "Enter an expense:76\n",
      "Enter an expense:56\n",
      "You spent N317.0\n"
     ]
    }
   ],
   "source": [
    "# the above expenses calculator is with a fixed list of expenses,\n",
    "# assuming we want the users to enter their own secific expenses ,\n",
    "# we use an \"input function\" with a rang of 7,then we append the inputed expense into the list of expenses\n",
    "total = 0\n",
    "expenses = []\n",
    "for i in range(7):\n",
    " expenses.append(float(input(\"Enter an expense:\")))\n",
    "total = sum(expenses)\n",
    "print(\"You spent N\", total, sep='')"
   ]
  },
  {
   "cell_type": "code",
   "execution_count": 53,
   "metadata": {},
   "outputs": [
    {
     "name": "stdout",
     "output_type": "stream",
     "text": [
      "Enter # of expenses:4\n",
      "Enter an expense:34.3\n",
      "Enter an expense:2.4\n",
      "Enter an expense:6.4\n",
      "Enter an expense:34\n",
      "You spent $77.1\n"
     ]
    }
   ],
   "source": [
    "total = 0\n",
    "expenses = []\n",
    "num_expenses = int(input(\"Enter # of expenses:\")) # this allows the user to specify the number of expenses\n",
    " #we then use the specified num_expenses to create the range \n",
    "for i in range(num_expenses):\n",
    " expenses.append(float(input(\"Enter an expense:\"))) \n",
    "\n",
    "total = sum(expenses)\n",
    "print(\"You spent $\", total, sep='')\n"
   ]
  },
  {
   "cell_type": "markdown",
   "metadata": {},
   "source": [
    "# Creating a Loan Calculator"
   ]
  },
  {
   "cell_type": "code",
   "execution_count": 3,
   "metadata": {},
   "outputs": [
    {
     "name": "stdout",
     "output_type": "stream",
     "text": [
      "How much money do you owe, in Naira?\n",
      "4567\n",
      "What is the annual percentage rate of the loan?\n",
      "5\n",
      "How much will you pay off each month in Naira?\n",
      "45\n",
      "How many months do you want to see the results for?\n",
      "12\n",
      "Paid 45.0 of which 19.029166666666665 was interest Now I owe 4541.029166666666\n",
      "Paid 45.0 of which 18.92095486111111 was interest Now I owe 4514.950121527777\n",
      "Paid 45.0 of which 18.812292173032404 was interest Now I owe 4488.76241370081\n",
      "Paid 45.0 of which 18.703176723753373 was interest Now I owe 4462.465590424563\n",
      "Paid 45.0 of which 18.593606626769013 was interest Now I owe 4436.0591970513315\n",
      "Paid 45.0 of which 18.48357998771388 was interest Now I owe 4409.542777039045\n",
      "Paid 45.0 of which 18.373094904329356 was interest Now I owe 4382.915871943374\n",
      "Paid 45.0 of which 18.262149466430728 was interest Now I owe 4356.178021409805\n",
      "Paid 45.0 of which 18.15074175587419 was interest Now I owe 4329.328763165679\n",
      "Paid 45.0 of which 18.038869846523664 was interest Now I owe 4302.367633012203\n",
      "Paid 45.0 of which 17.926531804217515 was interest Now I owe 4275.294164816421\n",
      "Paid 45.0 of which 17.813725686735086 was interest Now I owe 4248.107890503155\n"
     ]
    }
   ],
   "source": [
    "# Get the loan details\n",
    "money_owed = float(input(\"How much money do you owe, in Naira?\\n\")) # N50,000\n",
    "apr = float(input(\"What is the annual percentage rate of the loan?\\n\")) # 3%\n",
    "payment = float(input(\"How much will you pay off each month in Naira?\\n\")) # N1,000\n",
    "months = int(input(\"How many months do you want to see the results for?\\n\")) # 24\n",
    "\n",
    "# Divide apr by 100 to make a percent, and 12 to make monthly\n",
    "monthly_rate = apr/100/12\n",
    "\n",
    "# Repeat payments exactly months number of times\n",
    "for i in range(months):\n",
    "\n",
    "    # Add in interest\n",
    "    interest_paid = money_owed*monthly_rate\n",
    "    money_owed = money_owed + interest_paid\n",
    "\n",
    "    # Make payment\n",
    "    money_owed = money_owed - payment\n",
    "\n",
    "    # Print results after this month\n",
    "    print(\"Paid\",payment,\"of which\",interest_paid,\"was interest\", end=\" \")\n",
    "    print(\"Now I owe\", money_owed)\n"
   ]
  },
  {
   "cell_type": "code",
   "execution_count": null,
   "metadata": {},
   "outputs": [],
   "source": [
    "# Get the loan details\n",
    "money_owed = float(input(\"How much money do you owe, in Naira?\\n\")) # N50,000\n",
    "apr = float(input(\"What is the annual percentage rate of the loan?\\n\")) # 3%\n",
    "payment = float(input(\"How much will you pay off each month in Naira?\\n\")) # N1,000\n",
    "months = int(input(\"How many months do you want to see the results for?\\n\")) # 24\n",
    "\n",
    "# Divide apr by 100 to make a percent, and 12 to make monthly\n",
    "monthly_rate = apr/100/12\n",
    "\n",
    "# Repeat payments exactly months number of times\n",
    "for i in range(months):\n",
    "\n",
    "    # Add in interest\n",
    "    interest_paid = money_owed*monthly_rate\n",
    "    money_owed = money_owed + interest_paid\n",
    "\n",
    "    if (money_owed - payment < 0):\n",
    "        print(\"The last payment is\", money_owed)\n",
    "        print(\"You paid off loan in\", i+1, \"months\")\n",
    "        break\n",
    "\n",
    "    # Make payment\n",
    "    money_owed = money_owed - payment\n",
    "\n",
    "    # Print results after this month\n",
    "    print(\"Paid\",payment,\"of which\",interest_paid,\"was interest\", end=\" \")\n",
    "    print(\"Now I owe\", money_owed)\n"
   ]
  },
  {
   "cell_type": "markdown",
   "metadata": {},
   "source": [
    " # DICTIONARY\n",
    " A DICTIONARY MAPS KEY TO VALUES. Dictionaries, like lists, can hold anything you want: numbers, strings, a mix of both, and other objects. IT CAN BE STRINGS-NUMBERS, STRINGS-TO-STRINGS OR ANYTHING"
   ]
  },
  {
   "cell_type": "code",
   "execution_count": 2,
   "metadata": {},
   "outputs": [
    {
     "name": "stdout",
     "output_type": "stream",
     "text": [
      "{'LOL': 'laugh out loud', 'IDK': \"I don't know\", 'TBH': 'to be honest'}\n"
     ]
    }
   ],
   "source": [
    "acronyms = {} # create an emppty dictionary with a curly bracket\n",
    "acronyms['LOL'] = 'laugh out loud'# KEYS AND VALUES\n",
    "acronyms['IDK'] = \"I don't know\"\n",
    "acronyms['TBH'] = 'to be honest' \n",
    "print(acronyms)"
   ]
  },
  {
   "cell_type": "code",
   "execution_count": 4,
   "metadata": {},
   "outputs": [
    {
     "name": "stdout",
     "output_type": "stream",
     "text": [
      "laugh out loud\n"
     ]
    }
   ],
   "source": [
    "#in dictionary, we look-up item by their key not by their position\n",
    "print(acronyms['LOL'])"
   ]
  },
  {
   "cell_type": "code",
   "execution_count": 5,
   "metadata": {},
   "outputs": [
    {
     "name": "stdout",
     "output_type": "stream",
     "text": [
      "{'LOL': 'laugh out loud', 'IDK': \"I don't know\", 'TBH': 'honestly'}\n"
     ]
    }
   ],
   "source": [
    "# updating dictionary items\n",
    "acronyms['TBH'] = 'honestly'\n",
    "print(acronyms)"
   ]
  },
  {
   "cell_type": "code",
   "execution_count": 6,
   "metadata": {},
   "outputs": [
    {
     "name": "stdout",
     "output_type": "stream",
     "text": [
      "{'LOL': 'laugh out loud', 'IDK': \"I don't know\", 'TBH': 'honestly', 'BTW': 'between'}\n"
     ]
    }
   ],
   "source": [
    "# adding new items\n",
    "acronyms['BTW'] = 'between'\n",
    "print(acronyms)"
   ]
  },
  {
   "cell_type": "code",
   "execution_count": 10,
   "metadata": {},
   "outputs": [
    {
     "name": "stdout",
     "output_type": "stream",
     "text": [
      "between\n"
     ]
    }
   ],
   "source": [
    "# Get a value from the dictionary\n",
    "definition = acronyms.get('BTW') \n",
    "print(definition)"
   ]
  },
  {
   "cell_type": "code",
   "execution_count": 8,
   "metadata": {},
   "outputs": [],
   "source": [
    "# deleting items from a list\n",
    "del acronyms[\"LOL\"]"
   ]
  },
  {
   "cell_type": "code",
   "execution_count": 9,
   "metadata": {},
   "outputs": [
    {
     "name": "stdout",
     "output_type": "stream",
     "text": [
      "None\n"
     ]
    }
   ],
   "source": [
    "# Get a value that might not be there\n",
    "definition = acronyms.get('LOL') \n",
    "print(definition) #none shows that lol does not exist in our dictionary"
   ]
  },
  {
   "cell_type": "code",
   "execution_count": 13,
   "metadata": {},
   "outputs": [
    {
     "name": "stdout",
     "output_type": "stream",
     "text": [
      "Key doesn't exist\n"
     ]
    }
   ],
   "source": [
    "# else,, add and if statement to specify what it should print\n",
    "definition = acronyms.get('LOL') \n",
    "if definition: \n",
    " print(definition) \n",
    "else: \n",
    " print(\"Key doesn't exist\")"
   ]
  },
  {
   "cell_type": "code",
   "execution_count": 3,
   "metadata": {},
   "outputs": [
    {
     "name": "stdout",
     "output_type": "stream",
     "text": [
      "I don't know what happened to be honest\n"
     ]
    }
   ],
   "source": [
    "sentence = acronyms.get('IDK') + ' what happened ' + acronyms.get('TBH')\n",
    "print(sentence)"
   ]
  },
  {
   "cell_type": "markdown",
   "metadata": {},
   "source": [
    " # Movie Schedule"
   ]
  },
  {
   "cell_type": "code",
   "execution_count": 4,
   "metadata": {},
   "outputs": [
    {
     "name": "stdout",
     "output_type": "stream",
     "text": [
      "We're showing the following movies:\n",
      "The Grinch\n",
      "Rudolph\n",
      "Frosty the Snowman\n",
      "Christmas Vacation\n",
      "What movie would you like the showtime for?\n",
      "Christmas Vacation\n",
      "Christmas Vacation is playing at 5:00pm\n"
     ]
    }
   ],
   "source": [
    "#A dictionary of available movies with the showing time\n",
    "current_movies = {'The Grinch': '11:00am',\n",
    "                 'Rudolph': '1:00pm',\n",
    "                 'Frosty the Snowman': '3:00pm',\n",
    "                 'Christmas Vacation': '5:00pm'}\n",
    "\n",
    "print(\"We're showing the following movies:\")\n",
    "for key in current_movies:# the word key is a place holder reresenting every items in current movies\n",
    "    print(key)\n",
    "movie = input('What movie would you like the showtime for?\\n') # asking the user the movie they want to see\n",
    "\n",
    "showtime = current_movies.get(movie) # check if the movie user wants to see is in our current movie\n",
    "# we named the interaction of our dictionary show time\n",
    "if(showtime == None):# if showtime is none i.e movie not in our current movie, print\n",
    "    print(\"Requested movie isn't playing\")\n",
    "else:\n",
    "    print(movie, 'is playing at', showtime)\n"
   ]
  },
  {
   "cell_type": "markdown",
   "metadata": {},
   "source": [
    "# Menu Lists"
   ]
  },
  {
   "cell_type": "markdown",
   "metadata": {},
   "source": [
    "Let’s say we have three separate menu lists: Breakfast, Lunch, Dinner…\n",
    "breakfast = ['Egg Sandwich','Bagel','Coffee']\n",
    "lunch = ['BLT','PB&J','Turkey Sandwich']\n",
    "dinner = ['Soup','Salad','Spaghetti','Taco']"
   ]
  },
  {
   "cell_type": "code",
   "execution_count": 2,
   "metadata": {},
   "outputs": [
    {
     "name": "stdout",
     "output_type": "stream",
     "text": [
      "Breakfast Menu:\t ['Egg Sandwich', 'Bagel', 'Coffee']\n",
      "Lunch Menu:\t ['BLT', 'PB&J', 'Turkey Sandwich']\n",
      "Dinner Menu:\t ['Soup', 'Salad', 'Spaghetti', 'Taco']\n"
     ]
    }
   ],
   "source": [
    "# A List of Lists\n",
    "# You can have a container of containers - menus is a list of lists.\n",
    "menus = [ ['Egg Sandwich','Bagel','Coffee'],\n",
    " ['BLT','PB&J','Turkey Sandwich'],\n",
    " ['Soup','Salad','Spaghetti','Taco'] ]\n",
    "\n",
    "print('Breakfast Menu:\\t', menus[0])# 1st list\n",
    "print('Lunch Menu:\\t', menus[1])# 2nd list\n",
    "print('Dinner Menu:\\t', menus[2])#3rd list"
   ]
  },
  {
   "cell_type": "code",
   "execution_count": 3,
   "metadata": {},
   "outputs": [
    {
     "name": "stdout",
     "output_type": "stream",
     "text": [
      "Bagel\n"
     ]
    }
   ],
   "source": [
    "#Getting an Item from a Two-dimensional List\n",
    "#You can use get two indexes to get an individual item\n",
    "# here we want to get Bagel\n",
    "menus = [ ['Egg Sandwich','Bagel','Coffee'],\n",
    " ['BLT','PB&J','Turkey Sandwich'],\n",
    " ['Soup','Salad','Spaghetti','Taco'] ]\n",
    "# we are going to the first list (index 0) and the second item in that list i.e index 1\n",
    "print(menus[0][1])"
   ]
  },
  {
   "cell_type": "code",
   "execution_count": 12,
   "metadata": {},
   "outputs": [
    {
     "name": "stdout",
     "output_type": "stream",
     "text": [
      "Breakfast Menu:\t ['Egg Sandwich', 'Bagel', 'Coffee']\n",
      "Lunch Menu:\t ['BLT', 'PB&J', 'Turkey Sandwich']\n",
      "Dinner Menu:\t ['Soup', 'Salad', 'Spaghetti', 'Taco']\n"
     ]
    }
   ],
   "source": [
    "#A Dictionary of Lists\n",
    "#We could also use a dictionary for our menus with keys for Breakfast,\n",
    "#Lunch and Dinner\n",
    "menus = { 'Breakfast': ['Egg Sandwich','Bagel','Coffee'],\n",
    " 'Lunch': ['BLT','PB&J','Turkey Sandwich'],\n",
    " 'Dinner': ['Soup','Salad','Spaghetti','Taco'] }\n",
    "\n",
    "#Using the keys to access each list\n",
    "print('Breakfast Menu:\\t', menus['Breakfast'])\n",
    "print('Lunch Menu:\\t', menus['Lunch'])\n",
    "print('Dinner Menu:\\t', menus['Dinner'])\n",
    "# the \\t make the result to allign"
   ]
  },
  {
   "cell_type": "code",
   "execution_count": 20,
   "metadata": {},
   "outputs": [
    {
     "name": "stdout",
     "output_type": "stream",
     "text": [
      "Breakfast : \t ['Egg Sandwich', 'Bagel', 'Coffee']\n",
      "Lunch : \t ['BLT', 'PB&J', 'Turkey Sandwich']\n",
      "Dinner : \t ['Soup', 'Salad', 'Spaghetti', 'Taco']\n"
     ]
    }
   ],
   "source": [
    "# lets assume we have more lists in our menu,how do we print them all without writting each name\n",
    "\n",
    "menus = { 'Breakfast': ['Egg Sandwich','Bagel','Coffee'],\n",
    " 'Lunch': ['BLT','PB&J','Turkey Sandwich'],\n",
    " 'Dinner': ['Soup','Salad','Spaghetti','Taco'] }\n",
    "\n",
    "# Now the loop has access to both the key (name) and the value (menu) here.\n",
    "for name, menu in menus.items():\n",
    " print(name, ': \\t', menu)"
   ]
  },
  {
   "cell_type": "markdown",
   "metadata": {},
   "source": [
    "# Representing Objects with Dictionaries"
   ]
  },
  {
   "cell_type": "code",
   "execution_count": 16,
   "metadata": {},
   "outputs": [
    {
     "name": "stdout",
     "output_type": "stream",
     "text": [
      "Sarah Smith is 100 years old.\n"
     ]
    }
   ],
   "source": [
    "#Using Dictionaries to Represent Objects\n",
    "#Let’s say we have a person and we want to represent their attributes, \n",
    "#such as their name, age, and city they’re from. We could use a dictionary where the\n",
    "#attributes are saved as key, value pairs\n",
    "person = {'name': 'Sarah Smith',\n",
    " 'city': \"Orlando\",\n",
    " 'age': '100'}\n",
    "print(person.get(\"name\"), 'is', person.get('age'), 'years old.')\n"
   ]
  },
  {
   "cell_type": "code",
   "execution_count": 6,
   "metadata": {},
   "outputs": [
    {
     "name": "stdout",
     "output_type": "stream",
     "text": [
      "sarah@example.com\n",
      "adedada@example.com\n",
      "feyi@example.com\n",
      "chi2cool@example.com\n"
     ]
    }
   ],
   "source": [
    "contacts = {\n",
    "    \"number\":4,\n",
    "    \"students\":\n",
    "        [\n",
    "            {\"name\":\"Sarah Amaka\", \"email\":\"sarah@example.com\"},\n",
    "            {\"name\":\"Adeyemi Dada\", \"email\":\"adedada@example.com\"},\n",
    "            {\"name\":\"feyisara\", \"email\":\"feyi@example.com\"},\n",
    "            {\"name\":\"Chinwe\", \"email\":\"chi2cool@example.com\"}\n",
    "        ]\n",
    "}\n",
    "\n",
    "#print('Student emails:')\n",
    "for student in contacts['students']:\n",
    "    print(student['email'])# print(p['name'])"
   ]
  },
  {
   "cell_type": "code",
   "execution_count": null,
   "metadata": {},
   "outputs": [],
   "source": []
  }
 ],
 "metadata": {
  "kernelspec": {
   "display_name": "Python 3",
   "language": "python",
   "name": "python3"
  },
  "language_info": {
   "codemirror_mode": {
    "name": "ipython",
    "version": 3
   },
   "file_extension": ".py",
   "mimetype": "text/x-python",
   "name": "python",
   "nbconvert_exporter": "python",
   "pygments_lexer": "ipython3",
   "version": "3.8.5"
  }
 },
 "nbformat": 4,
 "nbformat_minor": 4
}
